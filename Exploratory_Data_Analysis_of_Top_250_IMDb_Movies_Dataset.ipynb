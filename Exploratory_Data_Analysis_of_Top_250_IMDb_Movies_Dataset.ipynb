{
  "nbformat": 4,
  "nbformat_minor": 0,
  "metadata": {
    "colab": {
      "provenance": []
    },
    "kernelspec": {
      "name": "python3",
      "display_name": "Python 3"
    },
    "language_info": {
      "name": "python"
    }
  },
  "cells": [
    {
      "cell_type": "markdown",
      "source": [
        "Importing Libraries"
      ],
      "metadata": {
        "id": "rKDPOw-ZXVmw"
      }
    },
    {
      "cell_type": "code",
      "execution_count": 6,
      "metadata": {
        "id": "vOcRdD7Cn5LQ"
      },
      "outputs": [],
      "source": [
        "# Importing Important Libraries\n",
        "\n",
        "import pandas as pd\n",
        "import numpy as np\n",
        "import matplotlib.pyplot as plt\n",
        "import seaborn as sns"
      ]
    },
    {
      "cell_type": "markdown",
      "source": [
        "Summarising Data"
      ],
      "metadata": {
        "id": "W-cYNA7hXei4"
      }
    },
    {
      "cell_type": "code",
      "source": [
        "# Reading the Data\n",
        "\n",
        "imdb_data = pd.read_csv(\"/content/movies.csv (2).zip\")"
      ],
      "metadata": {
        "id": "Lg-ih2EY9UIx"
      },
      "execution_count": 8,
      "outputs": []
    },
    {
      "cell_type": "code",
      "source": [
        "# Fetching no. of rows and column in data\n",
        "\n",
        "print('No. of Rows :',imdb_data.shape[0])\n",
        "print('No. of Columns :', imdb_data.shape[1])"
      ],
      "metadata": {
        "colab": {
          "base_uri": "https://localhost:8080/"
        },
        "id": "5uP85ynnWGFG",
        "outputId": "63f00ddf-daae-4194-be39-fac91296e7b8"
      },
      "execution_count": 9,
      "outputs": [
        {
          "output_type": "stream",
          "name": "stdout",
          "text": [
            "No. of Rows : 250\n",
            "No. of Columns : 22\n"
          ]
        }
      ]
    },
    {
      "cell_type": "code",
      "source": [
        "# Top 10 head count\n",
        "\n",
        "imdb_data.head()"
      ],
      "metadata": {
        "colab": {
          "base_uri": "https://localhost:8080/",
          "height": 637
        },
        "id": "3eAqdLqp9UKo",
        "outputId": "b80f75b9-a7c0-4e96-82dd-316a0d9c8c26"
      },
      "execution_count": 10,
      "outputs": [
        {
          "output_type": "execute_result",
          "data": {
            "text/plain": [
              "   rank   movie_id                     title  year  \\\n",
              "0     1  tt0111161  The Shawshank Redemption  1994   \n",
              "1     2  tt0068646             The Godfather  1972   \n",
              "2     3  tt0468569           The Dark Knight  2008   \n",
              "3     4  tt0071562     The Godfather Part II  1974   \n",
              "4     5  tt0050083              12 Angry Men  1957   \n",
              "\n",
              "                                   link imbd_votes  imbd_rating certificate  \\\n",
              "0  https://www.imdb.com/title/tt0111161  2,711,075          9.3           R   \n",
              "1  https://www.imdb.com/title/tt0068646  1,882,829          9.2           R   \n",
              "2  https://www.imdb.com/title/tt0468569  2,684,051          9.0       PG-13   \n",
              "3  https://www.imdb.com/title/tt0071562  1,285,350          9.0           R   \n",
              "4  https://www.imdb.com/title/tt0050083    800,954          9.0    Approved   \n",
              "\n",
              "  duration               genre  ... director_id         director_name  \\\n",
              "0   2h 22m               Drama  ...   nm0001104        Frank Darabont   \n",
              "1   2h 55m         Crime,Drama  ...   nm0000338  Francis Ford Coppola   \n",
              "2   2h 32m  Action,Crime,Drama  ...   nm0634240     Christopher Nolan   \n",
              "3   3h 22m         Crime,Drama  ...   nm0000338  Francis Ford Coppola   \n",
              "4   1h 36m         Crime,Drama  ...   nm0001486          Sidney Lumet   \n",
              "\n",
              "                                           writer_id  \\\n",
              "0                                nm0000175,nm0001104   \n",
              "1                                nm0701374,nm0000338   \n",
              "2  tt0468569,nm0634300,nm0634240,nm0275286,tt0468569   \n",
              "3                                nm0000338,nm0701374   \n",
              "4                                          nm0741627   \n",
              "\n",
              "                                         writer_name  \\\n",
              "0                        Stephen King,Frank Darabont   \n",
              "1                    Mario Puzo,Francis Ford Coppola   \n",
              "2  Writers,Jonathan Nolan,Christopher Nolan,David...   \n",
              "3                    Francis Ford Coppola,Mario Puzo   \n",
              "4                                      Reginald Rose   \n",
              "\n",
              "                                           storyline  \\\n",
              "0  Over the course of several years, two convicts...   \n",
              "1  The aging patriarch of an organized crime dyna...   \n",
              "2  When the menace known as the Joker wreaks havo...   \n",
              "3  The early life and career of Vito Corleone in ...   \n",
              "4  The jury in a New York City murder trial is fr...   \n",
              "\n",
              "                                             user_id  \\\n",
              "0  ur16161013,ur15311310,ur0265899,ur16117882,ur1...   \n",
              "1  ur24740649,ur86182727,ur15794099,ur15311310,ur...   \n",
              "2  ur87850731,ur1293485,ur129557514,ur12449122,ur...   \n",
              "3  ur0176092,ur0688559,ur92260614,ur0200644,ur117...   \n",
              "4  ur1318549,ur0643062,ur0688559,ur20552756,ur945...   \n",
              "\n",
              "                                           user_name  \\\n",
              "0  hitchcockthelegend,Sleepin_Dragon,EyeDunno,ale...   \n",
              "1  CalRhys,andrewburgereviews,gogoschka-1,Sleepin...   \n",
              "2  MrHeraclius,Smells_Like_Cheese,dseferaj,little...   \n",
              "3  Nazi_Fighter_David,tfrizzell,umunir-36959,DanB...   \n",
              "4  uds3,tedg,tfrizzell,TheLittleSongbird,henrique...   \n",
              "\n",
              "                                           review_id  \\\n",
              "0  rw2284594,rw6606154,rw1221355,rw1822343,rw1288...   \n",
              "1  rw3038370,rw4756923,rw4059579,rw6568526,rw1897...   \n",
              "2  rw5478826,rw1914442,rw6606026,rw1917099,rw5170...   \n",
              "3  rw0135607,rw0135487,rw5049900,rw0135526,rw0135...   \n",
              "4  rw0060044,rw0060025,rw0060034,rw2262425,rw5448...   \n",
              "\n",
              "                                        review_title  \\\n",
              "0  Some birds aren't meant to be caged.,An incred...   \n",
              "1  The Pinnacle Of Flawless Films!,An offer so go...   \n",
              "2  The Dark Knight,The Batman of our dreams! So m...   \n",
              "3  Breathtaking in its scope and tragic grandeur....   \n",
              "4  The over-used term \"classic movie\" really come...   \n",
              "\n",
              "                                      review_content  \n",
              "0  The Shawshank Redemption is written and direct...  \n",
              "1  'The Godfather' is the pinnacle of flawless fi...  \n",
              "2  Confidently directed, dark, brooding, and pack...  \n",
              "3  Coppola's masterpiece is rivaled only by \"The ...  \n",
              "4  This once-in-a-generation masterpiece simply h...  \n",
              "\n",
              "[5 rows x 22 columns]"
            ],
            "text/html": [
              "\n",
              "  <div id=\"df-5e1f1450-de7a-4063-a168-ade407408627\" class=\"colab-df-container\">\n",
              "    <div>\n",
              "<style scoped>\n",
              "    .dataframe tbody tr th:only-of-type {\n",
              "        vertical-align: middle;\n",
              "    }\n",
              "\n",
              "    .dataframe tbody tr th {\n",
              "        vertical-align: top;\n",
              "    }\n",
              "\n",
              "    .dataframe thead th {\n",
              "        text-align: right;\n",
              "    }\n",
              "</style>\n",
              "<table border=\"1\" class=\"dataframe\">\n",
              "  <thead>\n",
              "    <tr style=\"text-align: right;\">\n",
              "      <th></th>\n",
              "      <th>rank</th>\n",
              "      <th>movie_id</th>\n",
              "      <th>title</th>\n",
              "      <th>year</th>\n",
              "      <th>link</th>\n",
              "      <th>imbd_votes</th>\n",
              "      <th>imbd_rating</th>\n",
              "      <th>certificate</th>\n",
              "      <th>duration</th>\n",
              "      <th>genre</th>\n",
              "      <th>...</th>\n",
              "      <th>director_id</th>\n",
              "      <th>director_name</th>\n",
              "      <th>writer_id</th>\n",
              "      <th>writer_name</th>\n",
              "      <th>storyline</th>\n",
              "      <th>user_id</th>\n",
              "      <th>user_name</th>\n",
              "      <th>review_id</th>\n",
              "      <th>review_title</th>\n",
              "      <th>review_content</th>\n",
              "    </tr>\n",
              "  </thead>\n",
              "  <tbody>\n",
              "    <tr>\n",
              "      <th>0</th>\n",
              "      <td>1</td>\n",
              "      <td>tt0111161</td>\n",
              "      <td>The Shawshank Redemption</td>\n",
              "      <td>1994</td>\n",
              "      <td>https://www.imdb.com/title/tt0111161</td>\n",
              "      <td>2,711,075</td>\n",
              "      <td>9.3</td>\n",
              "      <td>R</td>\n",
              "      <td>2h 22m</td>\n",
              "      <td>Drama</td>\n",
              "      <td>...</td>\n",
              "      <td>nm0001104</td>\n",
              "      <td>Frank Darabont</td>\n",
              "      <td>nm0000175,nm0001104</td>\n",
              "      <td>Stephen King,Frank Darabont</td>\n",
              "      <td>Over the course of several years, two convicts...</td>\n",
              "      <td>ur16161013,ur15311310,ur0265899,ur16117882,ur1...</td>\n",
              "      <td>hitchcockthelegend,Sleepin_Dragon,EyeDunno,ale...</td>\n",
              "      <td>rw2284594,rw6606154,rw1221355,rw1822343,rw1288...</td>\n",
              "      <td>Some birds aren't meant to be caged.,An incred...</td>\n",
              "      <td>The Shawshank Redemption is written and direct...</td>\n",
              "    </tr>\n",
              "    <tr>\n",
              "      <th>1</th>\n",
              "      <td>2</td>\n",
              "      <td>tt0068646</td>\n",
              "      <td>The Godfather</td>\n",
              "      <td>1972</td>\n",
              "      <td>https://www.imdb.com/title/tt0068646</td>\n",
              "      <td>1,882,829</td>\n",
              "      <td>9.2</td>\n",
              "      <td>R</td>\n",
              "      <td>2h 55m</td>\n",
              "      <td>Crime,Drama</td>\n",
              "      <td>...</td>\n",
              "      <td>nm0000338</td>\n",
              "      <td>Francis Ford Coppola</td>\n",
              "      <td>nm0701374,nm0000338</td>\n",
              "      <td>Mario Puzo,Francis Ford Coppola</td>\n",
              "      <td>The aging patriarch of an organized crime dyna...</td>\n",
              "      <td>ur24740649,ur86182727,ur15794099,ur15311310,ur...</td>\n",
              "      <td>CalRhys,andrewburgereviews,gogoschka-1,Sleepin...</td>\n",
              "      <td>rw3038370,rw4756923,rw4059579,rw6568526,rw1897...</td>\n",
              "      <td>The Pinnacle Of Flawless Films!,An offer so go...</td>\n",
              "      <td>'The Godfather' is the pinnacle of flawless fi...</td>\n",
              "    </tr>\n",
              "    <tr>\n",
              "      <th>2</th>\n",
              "      <td>3</td>\n",
              "      <td>tt0468569</td>\n",
              "      <td>The Dark Knight</td>\n",
              "      <td>2008</td>\n",
              "      <td>https://www.imdb.com/title/tt0468569</td>\n",
              "      <td>2,684,051</td>\n",
              "      <td>9.0</td>\n",
              "      <td>PG-13</td>\n",
              "      <td>2h 32m</td>\n",
              "      <td>Action,Crime,Drama</td>\n",
              "      <td>...</td>\n",
              "      <td>nm0634240</td>\n",
              "      <td>Christopher Nolan</td>\n",
              "      <td>tt0468569,nm0634300,nm0634240,nm0275286,tt0468569</td>\n",
              "      <td>Writers,Jonathan Nolan,Christopher Nolan,David...</td>\n",
              "      <td>When the menace known as the Joker wreaks havo...</td>\n",
              "      <td>ur87850731,ur1293485,ur129557514,ur12449122,ur...</td>\n",
              "      <td>MrHeraclius,Smells_Like_Cheese,dseferaj,little...</td>\n",
              "      <td>rw5478826,rw1914442,rw6606026,rw1917099,rw5170...</td>\n",
              "      <td>The Dark Knight,The Batman of our dreams! So m...</td>\n",
              "      <td>Confidently directed, dark, brooding, and pack...</td>\n",
              "    </tr>\n",
              "    <tr>\n",
              "      <th>3</th>\n",
              "      <td>4</td>\n",
              "      <td>tt0071562</td>\n",
              "      <td>The Godfather Part II</td>\n",
              "      <td>1974</td>\n",
              "      <td>https://www.imdb.com/title/tt0071562</td>\n",
              "      <td>1,285,350</td>\n",
              "      <td>9.0</td>\n",
              "      <td>R</td>\n",
              "      <td>3h 22m</td>\n",
              "      <td>Crime,Drama</td>\n",
              "      <td>...</td>\n",
              "      <td>nm0000338</td>\n",
              "      <td>Francis Ford Coppola</td>\n",
              "      <td>nm0000338,nm0701374</td>\n",
              "      <td>Francis Ford Coppola,Mario Puzo</td>\n",
              "      <td>The early life and career of Vito Corleone in ...</td>\n",
              "      <td>ur0176092,ur0688559,ur92260614,ur0200644,ur117...</td>\n",
              "      <td>Nazi_Fighter_David,tfrizzell,umunir-36959,DanB...</td>\n",
              "      <td>rw0135607,rw0135487,rw5049900,rw0135526,rw0135...</td>\n",
              "      <td>Breathtaking in its scope and tragic grandeur....</td>\n",
              "      <td>Coppola's masterpiece is rivaled only by \"The ...</td>\n",
              "    </tr>\n",
              "    <tr>\n",
              "      <th>4</th>\n",
              "      <td>5</td>\n",
              "      <td>tt0050083</td>\n",
              "      <td>12 Angry Men</td>\n",
              "      <td>1957</td>\n",
              "      <td>https://www.imdb.com/title/tt0050083</td>\n",
              "      <td>800,954</td>\n",
              "      <td>9.0</td>\n",
              "      <td>Approved</td>\n",
              "      <td>1h 36m</td>\n",
              "      <td>Crime,Drama</td>\n",
              "      <td>...</td>\n",
              "      <td>nm0001486</td>\n",
              "      <td>Sidney Lumet</td>\n",
              "      <td>nm0741627</td>\n",
              "      <td>Reginald Rose</td>\n",
              "      <td>The jury in a New York City murder trial is fr...</td>\n",
              "      <td>ur1318549,ur0643062,ur0688559,ur20552756,ur945...</td>\n",
              "      <td>uds3,tedg,tfrizzell,TheLittleSongbird,henrique...</td>\n",
              "      <td>rw0060044,rw0060025,rw0060034,rw2262425,rw5448...</td>\n",
              "      <td>The over-used term \"classic movie\" really come...</td>\n",
              "      <td>This once-in-a-generation masterpiece simply h...</td>\n",
              "    </tr>\n",
              "  </tbody>\n",
              "</table>\n",
              "<p>5 rows × 22 columns</p>\n",
              "</div>\n",
              "    <div class=\"colab-df-buttons\">\n",
              "\n",
              "  <div class=\"colab-df-container\">\n",
              "    <button class=\"colab-df-convert\" onclick=\"convertToInteractive('df-5e1f1450-de7a-4063-a168-ade407408627')\"\n",
              "            title=\"Convert this dataframe to an interactive table.\"\n",
              "            style=\"display:none;\">\n",
              "\n",
              "  <svg xmlns=\"http://www.w3.org/2000/svg\" height=\"24px\" viewBox=\"0 -960 960 960\">\n",
              "    <path d=\"M120-120v-720h720v720H120Zm60-500h600v-160H180v160Zm220 220h160v-160H400v160Zm0 220h160v-160H400v160ZM180-400h160v-160H180v160Zm440 0h160v-160H620v160ZM180-180h160v-160H180v160Zm440 0h160v-160H620v160Z\"/>\n",
              "  </svg>\n",
              "    </button>\n",
              "\n",
              "  <style>\n",
              "    .colab-df-container {\n",
              "      display:flex;\n",
              "      gap: 12px;\n",
              "    }\n",
              "\n",
              "    .colab-df-convert {\n",
              "      background-color: #E8F0FE;\n",
              "      border: none;\n",
              "      border-radius: 50%;\n",
              "      cursor: pointer;\n",
              "      display: none;\n",
              "      fill: #1967D2;\n",
              "      height: 32px;\n",
              "      padding: 0 0 0 0;\n",
              "      width: 32px;\n",
              "    }\n",
              "\n",
              "    .colab-df-convert:hover {\n",
              "      background-color: #E2EBFA;\n",
              "      box-shadow: 0px 1px 2px rgba(60, 64, 67, 0.3), 0px 1px 3px 1px rgba(60, 64, 67, 0.15);\n",
              "      fill: #174EA6;\n",
              "    }\n",
              "\n",
              "    .colab-df-buttons div {\n",
              "      margin-bottom: 4px;\n",
              "    }\n",
              "\n",
              "    [theme=dark] .colab-df-convert {\n",
              "      background-color: #3B4455;\n",
              "      fill: #D2E3FC;\n",
              "    }\n",
              "\n",
              "    [theme=dark] .colab-df-convert:hover {\n",
              "      background-color: #434B5C;\n",
              "      box-shadow: 0px 1px 3px 1px rgba(0, 0, 0, 0.15);\n",
              "      filter: drop-shadow(0px 1px 2px rgba(0, 0, 0, 0.3));\n",
              "      fill: #FFFFFF;\n",
              "    }\n",
              "  </style>\n",
              "\n",
              "    <script>\n",
              "      const buttonEl =\n",
              "        document.querySelector('#df-5e1f1450-de7a-4063-a168-ade407408627 button.colab-df-convert');\n",
              "      buttonEl.style.display =\n",
              "        google.colab.kernel.accessAllowed ? 'block' : 'none';\n",
              "\n",
              "      async function convertToInteractive(key) {\n",
              "        const element = document.querySelector('#df-5e1f1450-de7a-4063-a168-ade407408627');\n",
              "        const dataTable =\n",
              "          await google.colab.kernel.invokeFunction('convertToInteractive',\n",
              "                                                    [key], {});\n",
              "        if (!dataTable) return;\n",
              "\n",
              "        const docLinkHtml = 'Like what you see? Visit the ' +\n",
              "          '<a target=\"_blank\" href=https://colab.research.google.com/notebooks/data_table.ipynb>data table notebook</a>'\n",
              "          + ' to learn more about interactive tables.';\n",
              "        element.innerHTML = '';\n",
              "        dataTable['output_type'] = 'display_data';\n",
              "        await google.colab.output.renderOutput(dataTable, element);\n",
              "        const docLink = document.createElement('div');\n",
              "        docLink.innerHTML = docLinkHtml;\n",
              "        element.appendChild(docLink);\n",
              "      }\n",
              "    </script>\n",
              "  </div>\n",
              "\n",
              "\n",
              "<div id=\"df-2252a9ae-3398-47f6-a72f-65f270524dde\">\n",
              "  <button class=\"colab-df-quickchart\" onclick=\"quickchart('df-2252a9ae-3398-47f6-a72f-65f270524dde')\"\n",
              "            title=\"Suggest charts\"\n",
              "            style=\"display:none;\">\n",
              "\n",
              "<svg xmlns=\"http://www.w3.org/2000/svg\" height=\"24px\"viewBox=\"0 0 24 24\"\n",
              "     width=\"24px\">\n",
              "    <g>\n",
              "        <path d=\"M19 3H5c-1.1 0-2 .9-2 2v14c0 1.1.9 2 2 2h14c1.1 0 2-.9 2-2V5c0-1.1-.9-2-2-2zM9 17H7v-7h2v7zm4 0h-2V7h2v10zm4 0h-2v-4h2v4z\"/>\n",
              "    </g>\n",
              "</svg>\n",
              "  </button>\n",
              "\n",
              "<style>\n",
              "  .colab-df-quickchart {\n",
              "      --bg-color: #E8F0FE;\n",
              "      --fill-color: #1967D2;\n",
              "      --hover-bg-color: #E2EBFA;\n",
              "      --hover-fill-color: #174EA6;\n",
              "      --disabled-fill-color: #AAA;\n",
              "      --disabled-bg-color: #DDD;\n",
              "  }\n",
              "\n",
              "  [theme=dark] .colab-df-quickchart {\n",
              "      --bg-color: #3B4455;\n",
              "      --fill-color: #D2E3FC;\n",
              "      --hover-bg-color: #434B5C;\n",
              "      --hover-fill-color: #FFFFFF;\n",
              "      --disabled-bg-color: #3B4455;\n",
              "      --disabled-fill-color: #666;\n",
              "  }\n",
              "\n",
              "  .colab-df-quickchart {\n",
              "    background-color: var(--bg-color);\n",
              "    border: none;\n",
              "    border-radius: 50%;\n",
              "    cursor: pointer;\n",
              "    display: none;\n",
              "    fill: var(--fill-color);\n",
              "    height: 32px;\n",
              "    padding: 0;\n",
              "    width: 32px;\n",
              "  }\n",
              "\n",
              "  .colab-df-quickchart:hover {\n",
              "    background-color: var(--hover-bg-color);\n",
              "    box-shadow: 0 1px 2px rgba(60, 64, 67, 0.3), 0 1px 3px 1px rgba(60, 64, 67, 0.15);\n",
              "    fill: var(--button-hover-fill-color);\n",
              "  }\n",
              "\n",
              "  .colab-df-quickchart-complete:disabled,\n",
              "  .colab-df-quickchart-complete:disabled:hover {\n",
              "    background-color: var(--disabled-bg-color);\n",
              "    fill: var(--disabled-fill-color);\n",
              "    box-shadow: none;\n",
              "  }\n",
              "\n",
              "  .colab-df-spinner {\n",
              "    border: 2px solid var(--fill-color);\n",
              "    border-color: transparent;\n",
              "    border-bottom-color: var(--fill-color);\n",
              "    animation:\n",
              "      spin 1s steps(1) infinite;\n",
              "  }\n",
              "\n",
              "  @keyframes spin {\n",
              "    0% {\n",
              "      border-color: transparent;\n",
              "      border-bottom-color: var(--fill-color);\n",
              "      border-left-color: var(--fill-color);\n",
              "    }\n",
              "    20% {\n",
              "      border-color: transparent;\n",
              "      border-left-color: var(--fill-color);\n",
              "      border-top-color: var(--fill-color);\n",
              "    }\n",
              "    30% {\n",
              "      border-color: transparent;\n",
              "      border-left-color: var(--fill-color);\n",
              "      border-top-color: var(--fill-color);\n",
              "      border-right-color: var(--fill-color);\n",
              "    }\n",
              "    40% {\n",
              "      border-color: transparent;\n",
              "      border-right-color: var(--fill-color);\n",
              "      border-top-color: var(--fill-color);\n",
              "    }\n",
              "    60% {\n",
              "      border-color: transparent;\n",
              "      border-right-color: var(--fill-color);\n",
              "    }\n",
              "    80% {\n",
              "      border-color: transparent;\n",
              "      border-right-color: var(--fill-color);\n",
              "      border-bottom-color: var(--fill-color);\n",
              "    }\n",
              "    90% {\n",
              "      border-color: transparent;\n",
              "      border-bottom-color: var(--fill-color);\n",
              "    }\n",
              "  }\n",
              "</style>\n",
              "\n",
              "  <script>\n",
              "    async function quickchart(key) {\n",
              "      const quickchartButtonEl =\n",
              "        document.querySelector('#' + key + ' button');\n",
              "      quickchartButtonEl.disabled = true;  // To prevent multiple clicks.\n",
              "      quickchartButtonEl.classList.add('colab-df-spinner');\n",
              "      try {\n",
              "        const charts = await google.colab.kernel.invokeFunction(\n",
              "            'suggestCharts', [key], {});\n",
              "      } catch (error) {\n",
              "        console.error('Error during call to suggestCharts:', error);\n",
              "      }\n",
              "      quickchartButtonEl.classList.remove('colab-df-spinner');\n",
              "      quickchartButtonEl.classList.add('colab-df-quickchart-complete');\n",
              "    }\n",
              "    (() => {\n",
              "      let quickchartButtonEl =\n",
              "        document.querySelector('#df-2252a9ae-3398-47f6-a72f-65f270524dde button');\n",
              "      quickchartButtonEl.style.display =\n",
              "        google.colab.kernel.accessAllowed ? 'block' : 'none';\n",
              "    })();\n",
              "  </script>\n",
              "</div>\n",
              "    </div>\n",
              "  </div>\n"
            ],
            "application/vnd.google.colaboratory.intrinsic+json": {
              "type": "dataframe",
              "variable_name": "imdb_data"
            }
          },
          "metadata": {},
          "execution_count": 10
        }
      ]
    },
    {
      "cell_type": "code",
      "source": [
        "# Last 5 count\n",
        "\n",
        "imdb_data.tail()"
      ],
      "metadata": {
        "colab": {
          "base_uri": "https://localhost:8080/",
          "height": 655
        },
        "id": "hW4jb4lJY8vK",
        "outputId": "293fc236-f761-4790-deb4-2a3d1ac8c226"
      },
      "execution_count": 11,
      "outputs": [
        {
          "output_type": "execute_result",
          "data": {
            "text/plain": [
              "     rank   movie_id               title  year  \\\n",
              "245   246  tt0071411         Dersu Uzala  1975   \n",
              "246   247  tt1454029            The Help  2011   \n",
              "247   248  tt0103639             Aladdin  1992   \n",
              "248   249  tt0083987              Gandhi  1982   \n",
              "249   250  tt0099348  Dances with Wolves  1990   \n",
              "\n",
              "                                     link imbd_votes  imbd_rating certificate  \\\n",
              "245  https://www.imdb.com/title/tt0071411     31,167          8.2           G   \n",
              "246  https://www.imdb.com/title/tt1454029    466,011          8.1       PG-13   \n",
              "247  https://www.imdb.com/title/tt0103639    429,219          8.0           G   \n",
              "248  https://www.imdb.com/title/tt0083987    234,688          8.0          PG   \n",
              "249  https://www.imdb.com/title/tt0099348    271,823          8.0       PG-13   \n",
              "\n",
              "    duration                       genre  ...          director_id  \\\n",
              "245   2h 22m   Adventure,Biography,Drama  ...            nm0000041   \n",
              "246   2h 26m                       Drama  ...            nm0853238   \n",
              "247   1h 30m  Animation,Adventure,Comedy  ...  nm0166256,nm0615780   \n",
              "248   3h 11m     Biography,Drama,History  ...            nm0000277   \n",
              "249    3h 1m     Adventure,Drama,Western  ...            nm0000126   \n",
              "\n",
              "                director_name  \\\n",
              "245            Akira Kurosawa   \n",
              "246               Tate Taylor   \n",
              "247  Ron Clements,John Musker   \n",
              "248      Richard Attenborough   \n",
              "249             Kevin Costner   \n",
              "\n",
              "                                             writer_id  \\\n",
              "245                      nm0000041,nm0619330,nm0037539   \n",
              "246                                nm0853238,nm3543826   \n",
              "247  tt0103639,nm0166256,nm0615780,nm0254645,tt0103639   \n",
              "248                                          nm0109300   \n",
              "249                                          nm0086658   \n",
              "\n",
              "                                       writer_name  \\\n",
              "245  Akira Kurosawa,Yuriy Nagibin,Vladimir Arsenev   \n",
              "246                   Tate Taylor,Kathryn Stockett   \n",
              "247  Writers,Ron Clements,John Musker,Ted Elliott,   \n",
              "248                                    John Briley   \n",
              "249                                  Michael Blake   \n",
              "\n",
              "                                             storyline  \\\n",
              "245  The Russian army sends an explorer on an exped...   \n",
              "246  An aspiring author during the civil rights mov...   \n",
              "247  A kindhearted street urchin and a power-hungry...   \n",
              "248  The life of the lawyer who became the famed le...   \n",
              "249  Lieutenant John Dunbar, assigned to a remote w...   \n",
              "\n",
              "                                               user_id  \\\n",
              "245  ur0453068,ur0491610,ur3212364,ur2488512,ur1911...   \n",
              "246  ur0806494,ur1391596,ur24207576,ur2955724,ur221...   \n",
              "247  ur1293485,ur1416505,ur4445210,ur4234119,ur0909...   \n",
              "248  ur0954062,ur0688559,ur0176092,ur0940950,ur2620...   \n",
              "249  ur66111139,ur16161013,ur20597848,ur1413169,ur5...   \n",
              "\n",
              "                                             user_name  \\\n",
              "245  Quinoa1984,howard.schumann,Spondonman,claudio_...   \n",
              "246  ferguson-6,JohnDeSando,taylor_king-890-815491,...   \n",
              "247  Smells_Like_Cheese,Boba_Fett1138,ccthemovieman...   \n",
              "248  khatcher-2,tfrizzell,Nazi_Fighter_David,Rod-88...   \n",
              "249  gbill-74877,hitchcockthelegend,bheadher,Philip...   \n",
              "\n",
              "                                             review_id  \\\n",
              "245  rw1024676,rw0134934,rw1122059,rw2168879,rw2373...   \n",
              "246  rw2473566,rw2472337,rw2472299,rw2697863,rw2488...   \n",
              "247  rw0302749,rw0950861,rw1571053,rw2534639,rw0302...   \n",
              "248  rw0194126,rw1179566,rw1106866,rw0194132,rw0194...   \n",
              "249  rw6808367,rw2322324,rw4656461,rw0959913,rw1379...   \n",
              "\n",
              "                                          review_title  \\\n",
              "245  a tribute to the endurance of man and nature, ...   \n",
              "246  Minny Don't Burn Chicken,Ready to burst . . .,...   \n",
              "247  I'd put it in with the Disney classics,Great s...   \n",
              "248  Took nearly twenty years to make - not a singl...   \n",
              "249  Fantastic,It is the trail of a true human bein...   \n",
              "\n",
              "                                        review_content  \n",
              "245  For a variety of reasons (that are well known ...  \n",
              "246  Greetings again from the darkness. The film is...  \n",
              "247  Aladdin is such an awesome move that still get...  \n",
              "248  Here indeed is one of the great films of the 2...  \n",
              "249  It's hard to think of blockbuster films that p...  \n",
              "\n",
              "[5 rows x 22 columns]"
            ],
            "text/html": [
              "\n",
              "  <div id=\"df-5b4867f7-2d95-445d-9bd9-8dd33c4dd161\" class=\"colab-df-container\">\n",
              "    <div>\n",
              "<style scoped>\n",
              "    .dataframe tbody tr th:only-of-type {\n",
              "        vertical-align: middle;\n",
              "    }\n",
              "\n",
              "    .dataframe tbody tr th {\n",
              "        vertical-align: top;\n",
              "    }\n",
              "\n",
              "    .dataframe thead th {\n",
              "        text-align: right;\n",
              "    }\n",
              "</style>\n",
              "<table border=\"1\" class=\"dataframe\">\n",
              "  <thead>\n",
              "    <tr style=\"text-align: right;\">\n",
              "      <th></th>\n",
              "      <th>rank</th>\n",
              "      <th>movie_id</th>\n",
              "      <th>title</th>\n",
              "      <th>year</th>\n",
              "      <th>link</th>\n",
              "      <th>imbd_votes</th>\n",
              "      <th>imbd_rating</th>\n",
              "      <th>certificate</th>\n",
              "      <th>duration</th>\n",
              "      <th>genre</th>\n",
              "      <th>...</th>\n",
              "      <th>director_id</th>\n",
              "      <th>director_name</th>\n",
              "      <th>writer_id</th>\n",
              "      <th>writer_name</th>\n",
              "      <th>storyline</th>\n",
              "      <th>user_id</th>\n",
              "      <th>user_name</th>\n",
              "      <th>review_id</th>\n",
              "      <th>review_title</th>\n",
              "      <th>review_content</th>\n",
              "    </tr>\n",
              "  </thead>\n",
              "  <tbody>\n",
              "    <tr>\n",
              "      <th>245</th>\n",
              "      <td>246</td>\n",
              "      <td>tt0071411</td>\n",
              "      <td>Dersu Uzala</td>\n",
              "      <td>1975</td>\n",
              "      <td>https://www.imdb.com/title/tt0071411</td>\n",
              "      <td>31,167</td>\n",
              "      <td>8.2</td>\n",
              "      <td>G</td>\n",
              "      <td>2h 22m</td>\n",
              "      <td>Adventure,Biography,Drama</td>\n",
              "      <td>...</td>\n",
              "      <td>nm0000041</td>\n",
              "      <td>Akira Kurosawa</td>\n",
              "      <td>nm0000041,nm0619330,nm0037539</td>\n",
              "      <td>Akira Kurosawa,Yuriy Nagibin,Vladimir Arsenev</td>\n",
              "      <td>The Russian army sends an explorer on an exped...</td>\n",
              "      <td>ur0453068,ur0491610,ur3212364,ur2488512,ur1911...</td>\n",
              "      <td>Quinoa1984,howard.schumann,Spondonman,claudio_...</td>\n",
              "      <td>rw1024676,rw0134934,rw1122059,rw2168879,rw2373...</td>\n",
              "      <td>a tribute to the endurance of man and nature, ...</td>\n",
              "      <td>For a variety of reasons (that are well known ...</td>\n",
              "    </tr>\n",
              "    <tr>\n",
              "      <th>246</th>\n",
              "      <td>247</td>\n",
              "      <td>tt1454029</td>\n",
              "      <td>The Help</td>\n",
              "      <td>2011</td>\n",
              "      <td>https://www.imdb.com/title/tt1454029</td>\n",
              "      <td>466,011</td>\n",
              "      <td>8.1</td>\n",
              "      <td>PG-13</td>\n",
              "      <td>2h 26m</td>\n",
              "      <td>Drama</td>\n",
              "      <td>...</td>\n",
              "      <td>nm0853238</td>\n",
              "      <td>Tate Taylor</td>\n",
              "      <td>nm0853238,nm3543826</td>\n",
              "      <td>Tate Taylor,Kathryn Stockett</td>\n",
              "      <td>An aspiring author during the civil rights mov...</td>\n",
              "      <td>ur0806494,ur1391596,ur24207576,ur2955724,ur221...</td>\n",
              "      <td>ferguson-6,JohnDeSando,taylor_king-890-815491,...</td>\n",
              "      <td>rw2473566,rw2472337,rw2472299,rw2697863,rw2488...</td>\n",
              "      <td>Minny Don't Burn Chicken,Ready to burst . . .,...</td>\n",
              "      <td>Greetings again from the darkness. The film is...</td>\n",
              "    </tr>\n",
              "    <tr>\n",
              "      <th>247</th>\n",
              "      <td>248</td>\n",
              "      <td>tt0103639</td>\n",
              "      <td>Aladdin</td>\n",
              "      <td>1992</td>\n",
              "      <td>https://www.imdb.com/title/tt0103639</td>\n",
              "      <td>429,219</td>\n",
              "      <td>8.0</td>\n",
              "      <td>G</td>\n",
              "      <td>1h 30m</td>\n",
              "      <td>Animation,Adventure,Comedy</td>\n",
              "      <td>...</td>\n",
              "      <td>nm0166256,nm0615780</td>\n",
              "      <td>Ron Clements,John Musker</td>\n",
              "      <td>tt0103639,nm0166256,nm0615780,nm0254645,tt0103639</td>\n",
              "      <td>Writers,Ron Clements,John Musker,Ted Elliott,</td>\n",
              "      <td>A kindhearted street urchin and a power-hungry...</td>\n",
              "      <td>ur1293485,ur1416505,ur4445210,ur4234119,ur0909...</td>\n",
              "      <td>Smells_Like_Cheese,Boba_Fett1138,ccthemovieman...</td>\n",
              "      <td>rw0302749,rw0950861,rw1571053,rw2534639,rw0302...</td>\n",
              "      <td>I'd put it in with the Disney classics,Great s...</td>\n",
              "      <td>Aladdin is such an awesome move that still get...</td>\n",
              "    </tr>\n",
              "    <tr>\n",
              "      <th>248</th>\n",
              "      <td>249</td>\n",
              "      <td>tt0083987</td>\n",
              "      <td>Gandhi</td>\n",
              "      <td>1982</td>\n",
              "      <td>https://www.imdb.com/title/tt0083987</td>\n",
              "      <td>234,688</td>\n",
              "      <td>8.0</td>\n",
              "      <td>PG</td>\n",
              "      <td>3h 11m</td>\n",
              "      <td>Biography,Drama,History</td>\n",
              "      <td>...</td>\n",
              "      <td>nm0000277</td>\n",
              "      <td>Richard Attenborough</td>\n",
              "      <td>nm0109300</td>\n",
              "      <td>John Briley</td>\n",
              "      <td>The life of the lawyer who became the famed le...</td>\n",
              "      <td>ur0954062,ur0688559,ur0176092,ur0940950,ur2620...</td>\n",
              "      <td>khatcher-2,tfrizzell,Nazi_Fighter_David,Rod-88...</td>\n",
              "      <td>rw0194126,rw1179566,rw1106866,rw0194132,rw0194...</td>\n",
              "      <td>Took nearly twenty years to make - not a singl...</td>\n",
              "      <td>Here indeed is one of the great films of the 2...</td>\n",
              "    </tr>\n",
              "    <tr>\n",
              "      <th>249</th>\n",
              "      <td>250</td>\n",
              "      <td>tt0099348</td>\n",
              "      <td>Dances with Wolves</td>\n",
              "      <td>1990</td>\n",
              "      <td>https://www.imdb.com/title/tt0099348</td>\n",
              "      <td>271,823</td>\n",
              "      <td>8.0</td>\n",
              "      <td>PG-13</td>\n",
              "      <td>3h 1m</td>\n",
              "      <td>Adventure,Drama,Western</td>\n",
              "      <td>...</td>\n",
              "      <td>nm0000126</td>\n",
              "      <td>Kevin Costner</td>\n",
              "      <td>nm0086658</td>\n",
              "      <td>Michael Blake</td>\n",
              "      <td>Lieutenant John Dunbar, assigned to a remote w...</td>\n",
              "      <td>ur66111139,ur16161013,ur20597848,ur1413169,ur5...</td>\n",
              "      <td>gbill-74877,hitchcockthelegend,bheadher,Philip...</td>\n",
              "      <td>rw6808367,rw2322324,rw4656461,rw0959913,rw1379...</td>\n",
              "      <td>Fantastic,It is the trail of a true human bein...</td>\n",
              "      <td>It's hard to think of blockbuster films that p...</td>\n",
              "    </tr>\n",
              "  </tbody>\n",
              "</table>\n",
              "<p>5 rows × 22 columns</p>\n",
              "</div>\n",
              "    <div class=\"colab-df-buttons\">\n",
              "\n",
              "  <div class=\"colab-df-container\">\n",
              "    <button class=\"colab-df-convert\" onclick=\"convertToInteractive('df-5b4867f7-2d95-445d-9bd9-8dd33c4dd161')\"\n",
              "            title=\"Convert this dataframe to an interactive table.\"\n",
              "            style=\"display:none;\">\n",
              "\n",
              "  <svg xmlns=\"http://www.w3.org/2000/svg\" height=\"24px\" viewBox=\"0 -960 960 960\">\n",
              "    <path d=\"M120-120v-720h720v720H120Zm60-500h600v-160H180v160Zm220 220h160v-160H400v160Zm0 220h160v-160H400v160ZM180-400h160v-160H180v160Zm440 0h160v-160H620v160ZM180-180h160v-160H180v160Zm440 0h160v-160H620v160Z\"/>\n",
              "  </svg>\n",
              "    </button>\n",
              "\n",
              "  <style>\n",
              "    .colab-df-container {\n",
              "      display:flex;\n",
              "      gap: 12px;\n",
              "    }\n",
              "\n",
              "    .colab-df-convert {\n",
              "      background-color: #E8F0FE;\n",
              "      border: none;\n",
              "      border-radius: 50%;\n",
              "      cursor: pointer;\n",
              "      display: none;\n",
              "      fill: #1967D2;\n",
              "      height: 32px;\n",
              "      padding: 0 0 0 0;\n",
              "      width: 32px;\n",
              "    }\n",
              "\n",
              "    .colab-df-convert:hover {\n",
              "      background-color: #E2EBFA;\n",
              "      box-shadow: 0px 1px 2px rgba(60, 64, 67, 0.3), 0px 1px 3px 1px rgba(60, 64, 67, 0.15);\n",
              "      fill: #174EA6;\n",
              "    }\n",
              "\n",
              "    .colab-df-buttons div {\n",
              "      margin-bottom: 4px;\n",
              "    }\n",
              "\n",
              "    [theme=dark] .colab-df-convert {\n",
              "      background-color: #3B4455;\n",
              "      fill: #D2E3FC;\n",
              "    }\n",
              "\n",
              "    [theme=dark] .colab-df-convert:hover {\n",
              "      background-color: #434B5C;\n",
              "      box-shadow: 0px 1px 3px 1px rgba(0, 0, 0, 0.15);\n",
              "      filter: drop-shadow(0px 1px 2px rgba(0, 0, 0, 0.3));\n",
              "      fill: #FFFFFF;\n",
              "    }\n",
              "  </style>\n",
              "\n",
              "    <script>\n",
              "      const buttonEl =\n",
              "        document.querySelector('#df-5b4867f7-2d95-445d-9bd9-8dd33c4dd161 button.colab-df-convert');\n",
              "      buttonEl.style.display =\n",
              "        google.colab.kernel.accessAllowed ? 'block' : 'none';\n",
              "\n",
              "      async function convertToInteractive(key) {\n",
              "        const element = document.querySelector('#df-5b4867f7-2d95-445d-9bd9-8dd33c4dd161');\n",
              "        const dataTable =\n",
              "          await google.colab.kernel.invokeFunction('convertToInteractive',\n",
              "                                                    [key], {});\n",
              "        if (!dataTable) return;\n",
              "\n",
              "        const docLinkHtml = 'Like what you see? Visit the ' +\n",
              "          '<a target=\"_blank\" href=https://colab.research.google.com/notebooks/data_table.ipynb>data table notebook</a>'\n",
              "          + ' to learn more about interactive tables.';\n",
              "        element.innerHTML = '';\n",
              "        dataTable['output_type'] = 'display_data';\n",
              "        await google.colab.output.renderOutput(dataTable, element);\n",
              "        const docLink = document.createElement('div');\n",
              "        docLink.innerHTML = docLinkHtml;\n",
              "        element.appendChild(docLink);\n",
              "      }\n",
              "    </script>\n",
              "  </div>\n",
              "\n",
              "\n",
              "<div id=\"df-7531da29-a3db-4b00-8692-0d3bed27db9c\">\n",
              "  <button class=\"colab-df-quickchart\" onclick=\"quickchart('df-7531da29-a3db-4b00-8692-0d3bed27db9c')\"\n",
              "            title=\"Suggest charts\"\n",
              "            style=\"display:none;\">\n",
              "\n",
              "<svg xmlns=\"http://www.w3.org/2000/svg\" height=\"24px\"viewBox=\"0 0 24 24\"\n",
              "     width=\"24px\">\n",
              "    <g>\n",
              "        <path d=\"M19 3H5c-1.1 0-2 .9-2 2v14c0 1.1.9 2 2 2h14c1.1 0 2-.9 2-2V5c0-1.1-.9-2-2-2zM9 17H7v-7h2v7zm4 0h-2V7h2v10zm4 0h-2v-4h2v4z\"/>\n",
              "    </g>\n",
              "</svg>\n",
              "  </button>\n",
              "\n",
              "<style>\n",
              "  .colab-df-quickchart {\n",
              "      --bg-color: #E8F0FE;\n",
              "      --fill-color: #1967D2;\n",
              "      --hover-bg-color: #E2EBFA;\n",
              "      --hover-fill-color: #174EA6;\n",
              "      --disabled-fill-color: #AAA;\n",
              "      --disabled-bg-color: #DDD;\n",
              "  }\n",
              "\n",
              "  [theme=dark] .colab-df-quickchart {\n",
              "      --bg-color: #3B4455;\n",
              "      --fill-color: #D2E3FC;\n",
              "      --hover-bg-color: #434B5C;\n",
              "      --hover-fill-color: #FFFFFF;\n",
              "      --disabled-bg-color: #3B4455;\n",
              "      --disabled-fill-color: #666;\n",
              "  }\n",
              "\n",
              "  .colab-df-quickchart {\n",
              "    background-color: var(--bg-color);\n",
              "    border: none;\n",
              "    border-radius: 50%;\n",
              "    cursor: pointer;\n",
              "    display: none;\n",
              "    fill: var(--fill-color);\n",
              "    height: 32px;\n",
              "    padding: 0;\n",
              "    width: 32px;\n",
              "  }\n",
              "\n",
              "  .colab-df-quickchart:hover {\n",
              "    background-color: var(--hover-bg-color);\n",
              "    box-shadow: 0 1px 2px rgba(60, 64, 67, 0.3), 0 1px 3px 1px rgba(60, 64, 67, 0.15);\n",
              "    fill: var(--button-hover-fill-color);\n",
              "  }\n",
              "\n",
              "  .colab-df-quickchart-complete:disabled,\n",
              "  .colab-df-quickchart-complete:disabled:hover {\n",
              "    background-color: var(--disabled-bg-color);\n",
              "    fill: var(--disabled-fill-color);\n",
              "    box-shadow: none;\n",
              "  }\n",
              "\n",
              "  .colab-df-spinner {\n",
              "    border: 2px solid var(--fill-color);\n",
              "    border-color: transparent;\n",
              "    border-bottom-color: var(--fill-color);\n",
              "    animation:\n",
              "      spin 1s steps(1) infinite;\n",
              "  }\n",
              "\n",
              "  @keyframes spin {\n",
              "    0% {\n",
              "      border-color: transparent;\n",
              "      border-bottom-color: var(--fill-color);\n",
              "      border-left-color: var(--fill-color);\n",
              "    }\n",
              "    20% {\n",
              "      border-color: transparent;\n",
              "      border-left-color: var(--fill-color);\n",
              "      border-top-color: var(--fill-color);\n",
              "    }\n",
              "    30% {\n",
              "      border-color: transparent;\n",
              "      border-left-color: var(--fill-color);\n",
              "      border-top-color: var(--fill-color);\n",
              "      border-right-color: var(--fill-color);\n",
              "    }\n",
              "    40% {\n",
              "      border-color: transparent;\n",
              "      border-right-color: var(--fill-color);\n",
              "      border-top-color: var(--fill-color);\n",
              "    }\n",
              "    60% {\n",
              "      border-color: transparent;\n",
              "      border-right-color: var(--fill-color);\n",
              "    }\n",
              "    80% {\n",
              "      border-color: transparent;\n",
              "      border-right-color: var(--fill-color);\n",
              "      border-bottom-color: var(--fill-color);\n",
              "    }\n",
              "    90% {\n",
              "      border-color: transparent;\n",
              "      border-bottom-color: var(--fill-color);\n",
              "    }\n",
              "  }\n",
              "</style>\n",
              "\n",
              "  <script>\n",
              "    async function quickchart(key) {\n",
              "      const quickchartButtonEl =\n",
              "        document.querySelector('#' + key + ' button');\n",
              "      quickchartButtonEl.disabled = true;  // To prevent multiple clicks.\n",
              "      quickchartButtonEl.classList.add('colab-df-spinner');\n",
              "      try {\n",
              "        const charts = await google.colab.kernel.invokeFunction(\n",
              "            'suggestCharts', [key], {});\n",
              "      } catch (error) {\n",
              "        console.error('Error during call to suggestCharts:', error);\n",
              "      }\n",
              "      quickchartButtonEl.classList.remove('colab-df-spinner');\n",
              "      quickchartButtonEl.classList.add('colab-df-quickchart-complete');\n",
              "    }\n",
              "    (() => {\n",
              "      let quickchartButtonEl =\n",
              "        document.querySelector('#df-7531da29-a3db-4b00-8692-0d3bed27db9c button');\n",
              "      quickchartButtonEl.style.display =\n",
              "        google.colab.kernel.accessAllowed ? 'block' : 'none';\n",
              "    })();\n",
              "  </script>\n",
              "</div>\n",
              "    </div>\n",
              "  </div>\n"
            ],
            "application/vnd.google.colaboratory.intrinsic+json": {
              "type": "dataframe"
            }
          },
          "metadata": {},
          "execution_count": 11
        }
      ]
    },
    {
      "cell_type": "code",
      "source": [
        "imdb_data.columns"
      ],
      "metadata": {
        "colab": {
          "base_uri": "https://localhost:8080/"
        },
        "id": "mmaDmh2lczgT",
        "outputId": "7f97b16b-7735-41c0-fc0b-2a29f66809a0"
      },
      "execution_count": 12,
      "outputs": [
        {
          "output_type": "execute_result",
          "data": {
            "text/plain": [
              "Index(['rank', 'movie_id', 'title', 'year', 'link', 'imbd_votes',\n",
              "       'imbd_rating', 'certificate', 'duration', 'genre', 'cast_id',\n",
              "       'cast_name', 'director_id', 'director_name', 'writer_id', 'writer_name',\n",
              "       'storyline', 'user_id', 'user_name', 'review_id', 'review_title',\n",
              "       'review_content'],\n",
              "      dtype='object')"
            ]
          },
          "metadata": {},
          "execution_count": 12
        }
      ]
    },
    {
      "cell_type": "code",
      "source": [
        "imdb_data.info()"
      ],
      "metadata": {
        "colab": {
          "base_uri": "https://localhost:8080/"
        },
        "id": "3rEOASzX9UMq",
        "outputId": "7ac4d034-bf2e-4152-f7a2-cf8c4c8722ea"
      },
      "execution_count": 13,
      "outputs": [
        {
          "output_type": "stream",
          "name": "stdout",
          "text": [
            "<class 'pandas.core.frame.DataFrame'>\n",
            "RangeIndex: 250 entries, 0 to 249\n",
            "Data columns (total 22 columns):\n",
            " #   Column          Non-Null Count  Dtype  \n",
            "---  ------          --------------  -----  \n",
            " 0   rank            250 non-null    int64  \n",
            " 1   movie_id        250 non-null    object \n",
            " 2   title           250 non-null    object \n",
            " 3   year            250 non-null    int64  \n",
            " 4   link            250 non-null    object \n",
            " 5   imbd_votes      250 non-null    object \n",
            " 6   imbd_rating     250 non-null    float64\n",
            " 7   certificate     249 non-null    object \n",
            " 8   duration        250 non-null    object \n",
            " 9   genre           250 non-null    object \n",
            " 10  cast_id         250 non-null    object \n",
            " 11  cast_name       250 non-null    object \n",
            " 12  director_id     250 non-null    object \n",
            " 13  director_name   250 non-null    object \n",
            " 14  writer_id       250 non-null    object \n",
            " 15  writer_name     250 non-null    object \n",
            " 16  storyline       250 non-null    object \n",
            " 17  user_id         250 non-null    object \n",
            " 18  user_name       250 non-null    object \n",
            " 19  review_id       250 non-null    object \n",
            " 20  review_title    250 non-null    object \n",
            " 21  review_content  250 non-null    object \n",
            "dtypes: float64(1), int64(2), object(19)\n",
            "memory usage: 43.1+ KB\n"
          ]
        }
      ]
    },
    {
      "cell_type": "code",
      "source": [
        "len(imdb_data)"
      ],
      "metadata": {
        "colab": {
          "base_uri": "https://localhost:8080/"
        },
        "id": "U_yAPvvMIEjI",
        "outputId": "e9c6e672-1c22-4fd6-cdc7-77f9c8224773"
      },
      "execution_count": 14,
      "outputs": [
        {
          "output_type": "execute_result",
          "data": {
            "text/plain": [
              "250"
            ]
          },
          "metadata": {},
          "execution_count": 14
        }
      ]
    },
    {
      "cell_type": "code",
      "source": [
        "imdb_data.describe()"
      ],
      "metadata": {
        "colab": {
          "base_uri": "https://localhost:8080/",
          "height": 300
        },
        "id": "krvicmt-UboQ",
        "outputId": "f61085cc-6c45-473c-db66-c471ef0294f6"
      },
      "execution_count": 15,
      "outputs": [
        {
          "output_type": "execute_result",
          "data": {
            "text/plain": [
              "             rank         year  imbd_rating\n",
              "count  250.000000   250.000000   250.000000\n",
              "mean   125.500000  1986.360000     8.306800\n",
              "std     72.312977    25.125356     0.229006\n",
              "min      1.000000  1921.000000     8.000000\n",
              "25%     63.250000  1966.250000     8.100000\n",
              "50%    125.500000  1994.000000     8.200000\n",
              "75%    187.750000  2006.000000     8.400000\n",
              "max    250.000000  2022.000000     9.300000"
            ],
            "text/html": [
              "\n",
              "  <div id=\"df-30c6a7eb-b886-454b-8736-e910c0f32f7d\" class=\"colab-df-container\">\n",
              "    <div>\n",
              "<style scoped>\n",
              "    .dataframe tbody tr th:only-of-type {\n",
              "        vertical-align: middle;\n",
              "    }\n",
              "\n",
              "    .dataframe tbody tr th {\n",
              "        vertical-align: top;\n",
              "    }\n",
              "\n",
              "    .dataframe thead th {\n",
              "        text-align: right;\n",
              "    }\n",
              "</style>\n",
              "<table border=\"1\" class=\"dataframe\">\n",
              "  <thead>\n",
              "    <tr style=\"text-align: right;\">\n",
              "      <th></th>\n",
              "      <th>rank</th>\n",
              "      <th>year</th>\n",
              "      <th>imbd_rating</th>\n",
              "    </tr>\n",
              "  </thead>\n",
              "  <tbody>\n",
              "    <tr>\n",
              "      <th>count</th>\n",
              "      <td>250.000000</td>\n",
              "      <td>250.000000</td>\n",
              "      <td>250.000000</td>\n",
              "    </tr>\n",
              "    <tr>\n",
              "      <th>mean</th>\n",
              "      <td>125.500000</td>\n",
              "      <td>1986.360000</td>\n",
              "      <td>8.306800</td>\n",
              "    </tr>\n",
              "    <tr>\n",
              "      <th>std</th>\n",
              "      <td>72.312977</td>\n",
              "      <td>25.125356</td>\n",
              "      <td>0.229006</td>\n",
              "    </tr>\n",
              "    <tr>\n",
              "      <th>min</th>\n",
              "      <td>1.000000</td>\n",
              "      <td>1921.000000</td>\n",
              "      <td>8.000000</td>\n",
              "    </tr>\n",
              "    <tr>\n",
              "      <th>25%</th>\n",
              "      <td>63.250000</td>\n",
              "      <td>1966.250000</td>\n",
              "      <td>8.100000</td>\n",
              "    </tr>\n",
              "    <tr>\n",
              "      <th>50%</th>\n",
              "      <td>125.500000</td>\n",
              "      <td>1994.000000</td>\n",
              "      <td>8.200000</td>\n",
              "    </tr>\n",
              "    <tr>\n",
              "      <th>75%</th>\n",
              "      <td>187.750000</td>\n",
              "      <td>2006.000000</td>\n",
              "      <td>8.400000</td>\n",
              "    </tr>\n",
              "    <tr>\n",
              "      <th>max</th>\n",
              "      <td>250.000000</td>\n",
              "      <td>2022.000000</td>\n",
              "      <td>9.300000</td>\n",
              "    </tr>\n",
              "  </tbody>\n",
              "</table>\n",
              "</div>\n",
              "    <div class=\"colab-df-buttons\">\n",
              "\n",
              "  <div class=\"colab-df-container\">\n",
              "    <button class=\"colab-df-convert\" onclick=\"convertToInteractive('df-30c6a7eb-b886-454b-8736-e910c0f32f7d')\"\n",
              "            title=\"Convert this dataframe to an interactive table.\"\n",
              "            style=\"display:none;\">\n",
              "\n",
              "  <svg xmlns=\"http://www.w3.org/2000/svg\" height=\"24px\" viewBox=\"0 -960 960 960\">\n",
              "    <path d=\"M120-120v-720h720v720H120Zm60-500h600v-160H180v160Zm220 220h160v-160H400v160Zm0 220h160v-160H400v160ZM180-400h160v-160H180v160Zm440 0h160v-160H620v160ZM180-180h160v-160H180v160Zm440 0h160v-160H620v160Z\"/>\n",
              "  </svg>\n",
              "    </button>\n",
              "\n",
              "  <style>\n",
              "    .colab-df-container {\n",
              "      display:flex;\n",
              "      gap: 12px;\n",
              "    }\n",
              "\n",
              "    .colab-df-convert {\n",
              "      background-color: #E8F0FE;\n",
              "      border: none;\n",
              "      border-radius: 50%;\n",
              "      cursor: pointer;\n",
              "      display: none;\n",
              "      fill: #1967D2;\n",
              "      height: 32px;\n",
              "      padding: 0 0 0 0;\n",
              "      width: 32px;\n",
              "    }\n",
              "\n",
              "    .colab-df-convert:hover {\n",
              "      background-color: #E2EBFA;\n",
              "      box-shadow: 0px 1px 2px rgba(60, 64, 67, 0.3), 0px 1px 3px 1px rgba(60, 64, 67, 0.15);\n",
              "      fill: #174EA6;\n",
              "    }\n",
              "\n",
              "    .colab-df-buttons div {\n",
              "      margin-bottom: 4px;\n",
              "    }\n",
              "\n",
              "    [theme=dark] .colab-df-convert {\n",
              "      background-color: #3B4455;\n",
              "      fill: #D2E3FC;\n",
              "    }\n",
              "\n",
              "    [theme=dark] .colab-df-convert:hover {\n",
              "      background-color: #434B5C;\n",
              "      box-shadow: 0px 1px 3px 1px rgba(0, 0, 0, 0.15);\n",
              "      filter: drop-shadow(0px 1px 2px rgba(0, 0, 0, 0.3));\n",
              "      fill: #FFFFFF;\n",
              "    }\n",
              "  </style>\n",
              "\n",
              "    <script>\n",
              "      const buttonEl =\n",
              "        document.querySelector('#df-30c6a7eb-b886-454b-8736-e910c0f32f7d button.colab-df-convert');\n",
              "      buttonEl.style.display =\n",
              "        google.colab.kernel.accessAllowed ? 'block' : 'none';\n",
              "\n",
              "      async function convertToInteractive(key) {\n",
              "        const element = document.querySelector('#df-30c6a7eb-b886-454b-8736-e910c0f32f7d');\n",
              "        const dataTable =\n",
              "          await google.colab.kernel.invokeFunction('convertToInteractive',\n",
              "                                                    [key], {});\n",
              "        if (!dataTable) return;\n",
              "\n",
              "        const docLinkHtml = 'Like what you see? Visit the ' +\n",
              "          '<a target=\"_blank\" href=https://colab.research.google.com/notebooks/data_table.ipynb>data table notebook</a>'\n",
              "          + ' to learn more about interactive tables.';\n",
              "        element.innerHTML = '';\n",
              "        dataTable['output_type'] = 'display_data';\n",
              "        await google.colab.output.renderOutput(dataTable, element);\n",
              "        const docLink = document.createElement('div');\n",
              "        docLink.innerHTML = docLinkHtml;\n",
              "        element.appendChild(docLink);\n",
              "      }\n",
              "    </script>\n",
              "  </div>\n",
              "\n",
              "\n",
              "<div id=\"df-2a07fb11-f0fa-493f-b77b-160120f2e5ab\">\n",
              "  <button class=\"colab-df-quickchart\" onclick=\"quickchart('df-2a07fb11-f0fa-493f-b77b-160120f2e5ab')\"\n",
              "            title=\"Suggest charts\"\n",
              "            style=\"display:none;\">\n",
              "\n",
              "<svg xmlns=\"http://www.w3.org/2000/svg\" height=\"24px\"viewBox=\"0 0 24 24\"\n",
              "     width=\"24px\">\n",
              "    <g>\n",
              "        <path d=\"M19 3H5c-1.1 0-2 .9-2 2v14c0 1.1.9 2 2 2h14c1.1 0 2-.9 2-2V5c0-1.1-.9-2-2-2zM9 17H7v-7h2v7zm4 0h-2V7h2v10zm4 0h-2v-4h2v4z\"/>\n",
              "    </g>\n",
              "</svg>\n",
              "  </button>\n",
              "\n",
              "<style>\n",
              "  .colab-df-quickchart {\n",
              "      --bg-color: #E8F0FE;\n",
              "      --fill-color: #1967D2;\n",
              "      --hover-bg-color: #E2EBFA;\n",
              "      --hover-fill-color: #174EA6;\n",
              "      --disabled-fill-color: #AAA;\n",
              "      --disabled-bg-color: #DDD;\n",
              "  }\n",
              "\n",
              "  [theme=dark] .colab-df-quickchart {\n",
              "      --bg-color: #3B4455;\n",
              "      --fill-color: #D2E3FC;\n",
              "      --hover-bg-color: #434B5C;\n",
              "      --hover-fill-color: #FFFFFF;\n",
              "      --disabled-bg-color: #3B4455;\n",
              "      --disabled-fill-color: #666;\n",
              "  }\n",
              "\n",
              "  .colab-df-quickchart {\n",
              "    background-color: var(--bg-color);\n",
              "    border: none;\n",
              "    border-radius: 50%;\n",
              "    cursor: pointer;\n",
              "    display: none;\n",
              "    fill: var(--fill-color);\n",
              "    height: 32px;\n",
              "    padding: 0;\n",
              "    width: 32px;\n",
              "  }\n",
              "\n",
              "  .colab-df-quickchart:hover {\n",
              "    background-color: var(--hover-bg-color);\n",
              "    box-shadow: 0 1px 2px rgba(60, 64, 67, 0.3), 0 1px 3px 1px rgba(60, 64, 67, 0.15);\n",
              "    fill: var(--button-hover-fill-color);\n",
              "  }\n",
              "\n",
              "  .colab-df-quickchart-complete:disabled,\n",
              "  .colab-df-quickchart-complete:disabled:hover {\n",
              "    background-color: var(--disabled-bg-color);\n",
              "    fill: var(--disabled-fill-color);\n",
              "    box-shadow: none;\n",
              "  }\n",
              "\n",
              "  .colab-df-spinner {\n",
              "    border: 2px solid var(--fill-color);\n",
              "    border-color: transparent;\n",
              "    border-bottom-color: var(--fill-color);\n",
              "    animation:\n",
              "      spin 1s steps(1) infinite;\n",
              "  }\n",
              "\n",
              "  @keyframes spin {\n",
              "    0% {\n",
              "      border-color: transparent;\n",
              "      border-bottom-color: var(--fill-color);\n",
              "      border-left-color: var(--fill-color);\n",
              "    }\n",
              "    20% {\n",
              "      border-color: transparent;\n",
              "      border-left-color: var(--fill-color);\n",
              "      border-top-color: var(--fill-color);\n",
              "    }\n",
              "    30% {\n",
              "      border-color: transparent;\n",
              "      border-left-color: var(--fill-color);\n",
              "      border-top-color: var(--fill-color);\n",
              "      border-right-color: var(--fill-color);\n",
              "    }\n",
              "    40% {\n",
              "      border-color: transparent;\n",
              "      border-right-color: var(--fill-color);\n",
              "      border-top-color: var(--fill-color);\n",
              "    }\n",
              "    60% {\n",
              "      border-color: transparent;\n",
              "      border-right-color: var(--fill-color);\n",
              "    }\n",
              "    80% {\n",
              "      border-color: transparent;\n",
              "      border-right-color: var(--fill-color);\n",
              "      border-bottom-color: var(--fill-color);\n",
              "    }\n",
              "    90% {\n",
              "      border-color: transparent;\n",
              "      border-bottom-color: var(--fill-color);\n",
              "    }\n",
              "  }\n",
              "</style>\n",
              "\n",
              "  <script>\n",
              "    async function quickchart(key) {\n",
              "      const quickchartButtonEl =\n",
              "        document.querySelector('#' + key + ' button');\n",
              "      quickchartButtonEl.disabled = true;  // To prevent multiple clicks.\n",
              "      quickchartButtonEl.classList.add('colab-df-spinner');\n",
              "      try {\n",
              "        const charts = await google.colab.kernel.invokeFunction(\n",
              "            'suggestCharts', [key], {});\n",
              "      } catch (error) {\n",
              "        console.error('Error during call to suggestCharts:', error);\n",
              "      }\n",
              "      quickchartButtonEl.classList.remove('colab-df-spinner');\n",
              "      quickchartButtonEl.classList.add('colab-df-quickchart-complete');\n",
              "    }\n",
              "    (() => {\n",
              "      let quickchartButtonEl =\n",
              "        document.querySelector('#df-2a07fb11-f0fa-493f-b77b-160120f2e5ab button');\n",
              "      quickchartButtonEl.style.display =\n",
              "        google.colab.kernel.accessAllowed ? 'block' : 'none';\n",
              "    })();\n",
              "  </script>\n",
              "</div>\n",
              "    </div>\n",
              "  </div>\n"
            ],
            "application/vnd.google.colaboratory.intrinsic+json": {
              "type": "dataframe",
              "summary": "{\n  \"name\": \"imdb_data\",\n  \"rows\": 8,\n  \"fields\": [\n    {\n      \"column\": \"rank\",\n      \"properties\": {\n        \"dtype\": \"number\",\n        \"std\": 89.79662880154827,\n        \"min\": 1.0,\n        \"max\": 250.0,\n        \"num_unique_values\": 6,\n        \"samples\": [\n          250.0,\n          125.5,\n          187.75\n        ],\n        \"semantic_type\": \"\",\n        \"description\": \"\"\n      }\n    },\n    {\n      \"column\": \"year\",\n      \"properties\": {\n        \"dtype\": \"number\",\n        \"std\": 856.724952212034,\n        \"min\": 25.125356398199532,\n        \"max\": 2022.0,\n        \"num_unique_values\": 8,\n        \"samples\": [\n          1986.36,\n          1994.0,\n          250.0\n        ],\n        \"semantic_type\": \"\",\n        \"description\": \"\"\n      }\n    },\n    {\n      \"column\": \"imbd_rating\",\n      \"properties\": {\n        \"dtype\": \"number\",\n        \"std\": 85.88425272993406,\n        \"min\": 0.22900553298238513,\n        \"max\": 250.0,\n        \"num_unique_values\": 8,\n        \"samples\": [\n          8.306799999999999,\n          8.2,\n          250.0\n        ],\n        \"semantic_type\": \"\",\n        \"description\": \"\"\n      }\n    }\n  ]\n}"
            }
          },
          "metadata": {},
          "execution_count": 15
        }
      ]
    },
    {
      "cell_type": "code",
      "source": [
        "# Finding Missing Values - True or False\n",
        "\n",
        "print('Any Missing Value :', imdb_data.isnull().values.any())"
      ],
      "metadata": {
        "colab": {
          "base_uri": "https://localhost:8080/"
        },
        "id": "kjG1QFRlP6ki",
        "outputId": "083a3a76-ffe4-4982-a509-6fa2d78dff62"
      },
      "execution_count": 16,
      "outputs": [
        {
          "output_type": "stream",
          "name": "stdout",
          "text": [
            "Any Missing Value : True\n"
          ]
        }
      ]
    },
    {
      "cell_type": "code",
      "source": [
        "# Finding sum of missing values in each column\n",
        "\n",
        "imdb_data.isnull().sum()"
      ],
      "metadata": {
        "colab": {
          "base_uri": "https://localhost:8080/"
        },
        "id": "8MW4AZ84Ubur",
        "outputId": "ed695624-6489-434f-83e8-0035ccbee313"
      },
      "execution_count": 17,
      "outputs": [
        {
          "output_type": "execute_result",
          "data": {
            "text/plain": [
              "rank              0\n",
              "movie_id          0\n",
              "title             0\n",
              "year              0\n",
              "link              0\n",
              "imbd_votes        0\n",
              "imbd_rating       0\n",
              "certificate       1\n",
              "duration          0\n",
              "genre             0\n",
              "cast_id           0\n",
              "cast_name         0\n",
              "director_id       0\n",
              "director_name     0\n",
              "writer_id         0\n",
              "writer_name       0\n",
              "storyline         0\n",
              "user_id           0\n",
              "user_name         0\n",
              "review_id         0\n",
              "review_title      0\n",
              "review_content    0\n",
              "dtype: int64"
            ]
          },
          "metadata": {},
          "execution_count": 17
        }
      ]
    },
    {
      "cell_type": "code",
      "source": [
        "# Showing Heat map on missing values\n",
        "\n",
        "sns.heatmap(imdb_data.isnull())"
      ],
      "metadata": {
        "colab": {
          "base_uri": "https://localhost:8080/",
          "height": 546
        },
        "id": "jK4lkZD8QMum",
        "outputId": "aa3f75f0-d5e9-4121-8ce0-b57827a981c8"
      },
      "execution_count": 18,
      "outputs": [
        {
          "output_type": "execute_result",
          "data": {
            "text/plain": [
              "<Axes: >"
            ]
          },
          "metadata": {},
          "execution_count": 18
        },
        {
          "output_type": "display_data",
          "data": {
            "text/plain": [
              "<Figure size 640x480 with 2 Axes>"
            ],
            "image/png": "[encoded data removed]"
          },
          "metadata": {}
        }
      ]
    },
    {
      "cell_type": "code",
      "source": [
        "# % age contribution of Missing values in Data Set\n",
        "\n",
        "per_missingvalues = imdb_data.isnull().sum() * 100 / len(imdb_data)\n",
        "per_missingvalues"
      ],
      "metadata": {
        "colab": {
          "base_uri": "https://localhost:8080/"
        },
        "id": "iypcrtcGQzPa",
        "outputId": "bda0d562-d015-4394-a175-f64fba757d54"
      },
      "execution_count": 19,
      "outputs": [
        {
          "output_type": "execute_result",
          "data": {
            "text/plain": [
              "rank              0.0\n",
              "movie_id          0.0\n",
              "title             0.0\n",
              "year              0.0\n",
              "link              0.0\n",
              "imbd_votes        0.0\n",
              "imbd_rating       0.0\n",
              "certificate       0.4\n",
              "duration          0.0\n",
              "genre             0.0\n",
              "cast_id           0.0\n",
              "cast_name         0.0\n",
              "director_id       0.0\n",
              "director_name     0.0\n",
              "writer_id         0.0\n",
              "writer_name       0.0\n",
              "storyline         0.0\n",
              "user_id           0.0\n",
              "user_name         0.0\n",
              "review_id         0.0\n",
              "review_title      0.0\n",
              "review_content    0.0\n",
              "dtype: float64"
            ]
          },
          "metadata": {},
          "execution_count": 19
        }
      ]
    },
    {
      "cell_type": "code",
      "source": [
        "# Dropping Missing value and re-assigning to original Data set\n",
        "\n",
        "imdb_data = imdb_data.dropna()"
      ],
      "metadata": {
        "id": "EJvqMhPucxvT"
      },
      "execution_count": 20,
      "outputs": []
    },
    {
      "cell_type": "code",
      "source": [
        "imdb_data.isnull().sum()"
      ],
      "metadata": {
        "id": "Xy9af0-WWEYc",
        "colab": {
          "base_uri": "https://localhost:8080/"
        },
        "outputId": "4ab9aeae-c83a-44c4-bcff-63ed32d5b06d"
      },
      "execution_count": 21,
      "outputs": [
        {
          "output_type": "execute_result",
          "data": {
            "text/plain": [
              "rank              0\n",
              "movie_id          0\n",
              "title             0\n",
              "year              0\n",
              "link              0\n",
              "imbd_votes        0\n",
              "imbd_rating       0\n",
              "certificate       0\n",
              "duration          0\n",
              "genre             0\n",
              "cast_id           0\n",
              "cast_name         0\n",
              "director_id       0\n",
              "director_name     0\n",
              "writer_id         0\n",
              "writer_name       0\n",
              "storyline         0\n",
              "user_id           0\n",
              "user_name         0\n",
              "review_id         0\n",
              "review_title      0\n",
              "review_content    0\n",
              "dtype: int64"
            ]
          },
          "metadata": {},
          "execution_count": 21
        }
      ]
    },
    {
      "cell_type": "code",
      "source": [
        "# Conveting all column starting letter in uppercase\n",
        "\n",
        "imdb_data.columns=imdb_data.columns.str.title()"
      ],
      "metadata": {
        "id": "8PK_G-5LUbwu"
      },
      "execution_count": 22,
      "outputs": []
    },
    {
      "cell_type": "code",
      "source": [
        "imdb_data.head(3)"
      ],
      "metadata": {
        "id": "CBByAj8XUbzL",
        "colab": {
          "base_uri": "https://localhost:8080/",
          "height": 436
        },
        "outputId": "006d66b0-3958-479b-9496-ead9956305f2"
      },
      "execution_count": 23,
      "outputs": [
        {
          "output_type": "execute_result",
          "data": {
            "text/plain": [
              "   Rank   Movie_Id                     Title  Year  \\\n",
              "0     1  tt0111161  The Shawshank Redemption  1994   \n",
              "1     2  tt0068646             The Godfather  1972   \n",
              "2     3  tt0468569           The Dark Knight  2008   \n",
              "\n",
              "                                   Link Imbd_Votes  Imbd_Rating Certificate  \\\n",
              "0  https://www.imdb.com/title/tt0111161  2,711,075          9.3           R   \n",
              "1  https://www.imdb.com/title/tt0068646  1,882,829          9.2           R   \n",
              "2  https://www.imdb.com/title/tt0468569  2,684,051          9.0       PG-13   \n",
              "\n",
              "  Duration               Genre  ... Director_Id         Director_Name  \\\n",
              "0   2h 22m               Drama  ...   nm0001104        Frank Darabont   \n",
              "1   2h 55m         Crime,Drama  ...   nm0000338  Francis Ford Coppola   \n",
              "2   2h 32m  Action,Crime,Drama  ...   nm0634240     Christopher Nolan   \n",
              "\n",
              "                                           Writer_Id  \\\n",
              "0                                nm0000175,nm0001104   \n",
              "1                                nm0701374,nm0000338   \n",
              "2  tt0468569,nm0634300,nm0634240,nm0275286,tt0468569   \n",
              "\n",
              "                                         Writer_Name  \\\n",
              "0                        Stephen King,Frank Darabont   \n",
              "1                    Mario Puzo,Francis Ford Coppola   \n",
              "2  Writers,Jonathan Nolan,Christopher Nolan,David...   \n",
              "\n",
              "                                           Storyline  \\\n",
              "0  Over the course of several years, two convicts...   \n",
              "1  The aging patriarch of an organized crime dyna...   \n",
              "2  When the menace known as the Joker wreaks havo...   \n",
              "\n",
              "                                             User_Id  \\\n",
              "0  ur16161013,ur15311310,ur0265899,ur16117882,ur1...   \n",
              "1  ur24740649,ur86182727,ur15794099,ur15311310,ur...   \n",
              "2  ur87850731,ur1293485,ur129557514,ur12449122,ur...   \n",
              "\n",
              "                                           User_Name  \\\n",
              "0  hitchcockthelegend,Sleepin_Dragon,EyeDunno,ale...   \n",
              "1  CalRhys,andrewburgereviews,gogoschka-1,Sleepin...   \n",
              "2  MrHeraclius,Smells_Like_Cheese,dseferaj,little...   \n",
              "\n",
              "                                           Review_Id  \\\n",
              "0  rw2284594,rw6606154,rw1221355,rw1822343,rw1288...   \n",
              "1  rw3038370,rw4756923,rw4059579,rw6568526,rw1897...   \n",
              "2  rw5478826,rw1914442,rw6606026,rw1917099,rw5170...   \n",
              "\n",
              "                                        Review_Title  \\\n",
              "0  Some birds aren't meant to be caged.,An incred...   \n",
              "1  The Pinnacle Of Flawless Films!,An offer so go...   \n",
              "2  The Dark Knight,The Batman of our dreams! So m...   \n",
              "\n",
              "                                      Review_Content  \n",
              "0  The Shawshank Redemption is written and direct...  \n",
              "1  'The Godfather' is the pinnacle of flawless fi...  \n",
              "2  Confidently directed, dark, brooding, and pack...  \n",
              "\n",
              "[3 rows x 22 columns]"
            ],
            "text/html": [
              "\n",
              "  <div id=\"df-dfc97a5c-6941-4557-bc74-c8f9a99e7b9a\" class=\"colab-df-container\">\n",
              "    <div>\n",
              "<style scoped>\n",
              "    .dataframe tbody tr th:only-of-type {\n",
              "        vertical-align: middle;\n",
              "    }\n",
              "\n",
              "    .dataframe tbody tr th {\n",
              "        vertical-align: top;\n",
              "    }\n",
              "\n",
              "    .dataframe thead th {\n",
              "        text-align: right;\n",
              "    }\n",
              "</style>\n",
              "<table border=\"1\" class=\"dataframe\">\n",
              "  <thead>\n",
              "    <tr style=\"text-align: right;\">\n",
              "      <th></th>\n",
              "      <th>Rank</th>\n",
              "      <th>Movie_Id</th>\n",
              "      <th>Title</th>\n",
              "      <th>Year</th>\n",
              "      <th>Link</th>\n",
              "      <th>Imbd_Votes</th>\n",
              "      <th>Imbd_Rating</th>\n",
              "      <th>Certificate</th>\n",
              "      <th>Duration</th>\n",
              "      <th>Genre</th>\n",
              "      <th>...</th>\n",
              "      <th>Director_Id</th>\n",
              "      <th>Director_Name</th>\n",
              "      <th>Writer_Id</th>\n",
              "      <th>Writer_Name</th>\n",
              "      <th>Storyline</th>\n",
              "      <th>User_Id</th>\n",
              "      <th>User_Name</th>\n",
              "      <th>Review_Id</th>\n",
              "      <th>Review_Title</th>\n",
              "      <th>Review_Content</th>\n",
              "    </tr>\n",
              "  </thead>\n",
              "  <tbody>\n",
              "    <tr>\n",
              "      <th>0</th>\n",
              "      <td>1</td>\n",
              "      <td>tt0111161</td>\n",
              "      <td>The Shawshank Redemption</td>\n",
              "      <td>1994</td>\n",
              "      <td>https://www.imdb.com/title/tt0111161</td>\n",
              "      <td>2,711,075</td>\n",
              "      <td>9.3</td>\n",
              "      <td>R</td>\n",
              "      <td>2h 22m</td>\n",
              "      <td>Drama</td>\n",
              "      <td>...</td>\n",
              "      <td>nm0001104</td>\n",
              "      <td>Frank Darabont</td>\n",
              "      <td>nm0000175,nm0001104</td>\n",
              "      <td>Stephen King,Frank Darabont</td>\n",
              "      <td>Over the course of several years, two convicts...</td>\n",
              "      <td>ur16161013,ur15311310,ur0265899,ur16117882,ur1...</td>\n",
              "      <td>hitchcockthelegend,Sleepin_Dragon,EyeDunno,ale...</td>\n",
              "      <td>rw2284594,rw6606154,rw1221355,rw1822343,rw1288...</td>\n",
              "      <td>Some birds aren't meant to be caged.,An incred...</td>\n",
              "      <td>The Shawshank Redemption is written and direct...</td>\n",
              "    </tr>\n",
              "    <tr>\n",
              "      <th>1</th>\n",
              "      <td>2</td>\n",
              "      <td>tt0068646</td>\n",
              "      <td>The Godfather</td>\n",
              "      <td>1972</td>\n",
              "      <td>https://www.imdb.com/title/tt0068646</td>\n",
              "      <td>1,882,829</td>\n",
              "      <td>9.2</td>\n",
              "      <td>R</td>\n",
              "      <td>2h 55m</td>\n",
              "      <td>Crime,Drama</td>\n",
              "      <td>...</td>\n",
              "      <td>nm0000338</td>\n",
              "      <td>Francis Ford Coppola</td>\n",
              "      <td>nm0701374,nm0000338</td>\n",
              "      <td>Mario Puzo,Francis Ford Coppola</td>\n",
              "      <td>The aging patriarch of an organized crime dyna...</td>\n",
              "      <td>ur24740649,ur86182727,ur15794099,ur15311310,ur...</td>\n",
              "      <td>CalRhys,andrewburgereviews,gogoschka-1,Sleepin...</td>\n",
              "      <td>rw3038370,rw4756923,rw4059579,rw6568526,rw1897...</td>\n",
              "      <td>The Pinnacle Of Flawless Films!,An offer so go...</td>\n",
              "      <td>'The Godfather' is the pinnacle of flawless fi...</td>\n",
              "    </tr>\n",
              "    <tr>\n",
              "      <th>2</th>\n",
              "      <td>3</td>\n",
              "      <td>tt0468569</td>\n",
              "      <td>The Dark Knight</td>\n",
              "      <td>2008</td>\n",
              "      <td>https://www.imdb.com/title/tt0468569</td>\n",
              "      <td>2,684,051</td>\n",
              "      <td>9.0</td>\n",
              "      <td>PG-13</td>\n",
              "      <td>2h 32m</td>\n",
              "      <td>Action,Crime,Drama</td>\n",
              "      <td>...</td>\n",
              "      <td>nm0634240</td>\n",
              "      <td>Christopher Nolan</td>\n",
              "      <td>tt0468569,nm0634300,nm0634240,nm0275286,tt0468569</td>\n",
              "      <td>Writers,Jonathan Nolan,Christopher Nolan,David...</td>\n",
              "      <td>When the menace known as the Joker wreaks havo...</td>\n",
              "      <td>ur87850731,ur1293485,ur129557514,ur12449122,ur...</td>\n",
              "      <td>MrHeraclius,Smells_Like_Cheese,dseferaj,little...</td>\n",
              "      <td>rw5478826,rw1914442,rw6606026,rw1917099,rw5170...</td>\n",
              "      <td>The Dark Knight,The Batman of our dreams! So m...</td>\n",
              "      <td>Confidently directed, dark, brooding, and pack...</td>\n",
              "    </tr>\n",
              "  </tbody>\n",
              "</table>\n",
              "<p>3 rows × 22 columns</p>\n",
              "</div>\n",
              "    <div class=\"colab-df-buttons\">\n",
              "\n",
              "  <div class=\"colab-df-container\">\n",
              "    <button class=\"colab-df-convert\" onclick=\"convertToInteractive('df-dfc97a5c-6941-4557-bc74-c8f9a99e7b9a')\"\n",
              "            title=\"Convert this dataframe to an interactive table.\"\n",
              "            style=\"display:none;\">\n",
              "\n",
              "  <svg xmlns=\"http://www.w3.org/2000/svg\" height=\"24px\" viewBox=\"0 -960 960 960\">\n",
              "    <path d=\"M120-120v-720h720v720H120Zm60-500h600v-160H180v160Zm220 220h160v-160H400v160Zm0 220h160v-160H400v160ZM180-400h160v-160H180v160Zm440 0h160v-160H620v160ZM180-180h160v-160H180v160Zm440 0h160v-160H620v160Z\"/>\n",
              "  </svg>\n",
              "    </button>\n",
              "\n",
              "  <style>\n",
              "    .colab-df-container {\n",
              "      display:flex;\n",
              "      gap: 12px;\n",
              "    }\n",
              "\n",
              "    .colab-df-convert {\n",
              "      background-color: #E8F0FE;\n",
              "      border: none;\n",
              "      border-radius: 50%;\n",
              "      cursor: pointer;\n",
              "      display: none;\n",
              "      fill: #1967D2;\n",
              "      height: 32px;\n",
              "      padding: 0 0 0 0;\n",
              "      width: 32px;\n",
              "    }\n",
              "\n",
              "    .colab-df-convert:hover {\n",
              "      background-color: #E2EBFA;\n",
              "      box-shadow: 0px 1px 2px rgba(60, 64, 67, 0.3), 0px 1px 3px 1px rgba(60, 64, 67, 0.15);\n",
              "      fill: #174EA6;\n",
              "    }\n",
              "\n",
              "    .colab-df-buttons div {\n",
              "      margin-bottom: 4px;\n",
              "    }\n",
              "\n",
              "    [theme=dark] .colab-df-convert {\n",
              "      background-color: #3B4455;\n",
              "      fill: #D2E3FC;\n",
              "    }\n",
              "\n",
              "    [theme=dark] .colab-df-convert:hover {\n",
              "      background-color: #434B5C;\n",
              "      box-shadow: 0px 1px 3px 1px rgba(0, 0, 0, 0.15);\n",
              "      filter: drop-shadow(0px 1px 2px rgba(0, 0, 0, 0.3));\n",
              "      fill: #FFFFFF;\n",
              "    }\n",
              "  </style>\n",
              "\n",
              "    <script>\n",
              "      const buttonEl =\n",
              "        document.querySelector('#df-dfc97a5c-6941-4557-bc74-c8f9a99e7b9a button.colab-df-convert');\n",
              "      buttonEl.style.display =\n",
              "        google.colab.kernel.accessAllowed ? 'block' : 'none';\n",
              "\n",
              "      async function convertToInteractive(key) {\n",
              "        const element = document.querySelector('#df-dfc97a5c-6941-4557-bc74-c8f9a99e7b9a');\n",
              "        const dataTable =\n",
              "          await google.colab.kernel.invokeFunction('convertToInteractive',\n",
              "                                                    [key], {});\n",
              "        if (!dataTable) return;\n",
              "\n",
              "        const docLinkHtml = 'Like what you see? Visit the ' +\n",
              "          '<a target=\"_blank\" href=https://colab.research.google.com/notebooks/data_table.ipynb>data table notebook</a>'\n",
              "          + ' to learn more about interactive tables.';\n",
              "        element.innerHTML = '';\n",
              "        dataTable['output_type'] = 'display_data';\n",
              "        await google.colab.output.renderOutput(dataTable, element);\n",
              "        const docLink = document.createElement('div');\n",
              "        docLink.innerHTML = docLinkHtml;\n",
              "        element.appendChild(docLink);\n",
              "      }\n",
              "    </script>\n",
              "  </div>\n",
              "\n",
              "\n",
              "<div id=\"df-e7069e49-7c63-4476-ba25-41ecdc1d42f1\">\n",
              "  <button class=\"colab-df-quickchart\" onclick=\"quickchart('df-e7069e49-7c63-4476-ba25-41ecdc1d42f1')\"\n",
              "            title=\"Suggest charts\"\n",
              "            style=\"display:none;\">\n",
              "\n",
              "<svg xmlns=\"http://www.w3.org/2000/svg\" height=\"24px\"viewBox=\"0 0 24 24\"\n",
              "     width=\"24px\">\n",
              "    <g>\n",
              "        <path d=\"M19 3H5c-1.1 0-2 .9-2 2v14c0 1.1.9 2 2 2h14c1.1 0 2-.9 2-2V5c0-1.1-.9-2-2-2zM9 17H7v-7h2v7zm4 0h-2V7h2v10zm4 0h-2v-4h2v4z\"/>\n",
              "    </g>\n",
              "</svg>\n",
              "  </button>\n",
              "\n",
              "<style>\n",
              "  .colab-df-quickchart {\n",
              "      --bg-color: #E8F0FE;\n",
              "      --fill-color: #1967D2;\n",
              "      --hover-bg-color: #E2EBFA;\n",
              "      --hover-fill-color: #174EA6;\n",
              "      --disabled-fill-color: #AAA;\n",
              "      --disabled-bg-color: #DDD;\n",
              "  }\n",
              "\n",
              "  [theme=dark] .colab-df-quickchart {\n",
              "      --bg-color: #3B4455;\n",
              "      --fill-color: #D2E3FC;\n",
              "      --hover-bg-color: #434B5C;\n",
              "      --hover-fill-color: #FFFFFF;\n",
              "      --disabled-bg-color: #3B4455;\n",
              "      --disabled-fill-color: #666;\n",
              "  }\n",
              "\n",
              "  .colab-df-quickchart {\n",
              "    background-color: var(--bg-color);\n",
              "    border: none;\n",
              "    border-radius: 50%;\n",
              "    cursor: pointer;\n",
              "    display: none;\n",
              "    fill: var(--fill-color);\n",
              "    height: 32px;\n",
              "    padding: 0;\n",
              "    width: 32px;\n",
              "  }\n",
              "\n",
              "  .colab-df-quickchart:hover {\n",
              "    background-color: var(--hover-bg-color);\n",
              "    box-shadow: 0 1px 2px rgba(60, 64, 67, 0.3), 0 1px 3px 1px rgba(60, 64, 67, 0.15);\n",
              "    fill: var(--button-hover-fill-color);\n",
              "  }\n",
              "\n",
              "  .colab-df-quickchart-complete:disabled,\n",
              "  .colab-df-quickchart-complete:disabled:hover {\n",
              "    background-color: var(--disabled-bg-color);\n",
              "    fill: var(--disabled-fill-color);\n",
              "    box-shadow: none;\n",
              "  }\n",
              "\n",
              "  .colab-df-spinner {\n",
              "    border: 2px solid var(--fill-color);\n",
              "    border-color: transparent;\n",
              "    border-bottom-color: var(--fill-color);\n",
              "    animation:\n",
              "      spin 1s steps(1) infinite;\n",
              "  }\n",
              "\n",
              "  @keyframes spin {\n",
              "    0% {\n",
              "      border-color: transparent;\n",
              "      border-bottom-color: var(--fill-color);\n",
              "      border-left-color: var(--fill-color);\n",
              "    }\n",
              "    20% {\n",
              "      border-color: transparent;\n",
              "      border-left-color: var(--fill-color);\n",
              "      border-top-color: var(--fill-color);\n",
              "    }\n",
              "    30% {\n",
              "      border-color: transparent;\n",
              "      border-left-color: var(--fill-color);\n",
              "      border-top-color: var(--fill-color);\n",
              "      border-right-color: var(--fill-color);\n",
              "    }\n",
              "    40% {\n",
              "      border-color: transparent;\n",
              "      border-right-color: var(--fill-color);\n",
              "      border-top-color: var(--fill-color);\n",
              "    }\n",
              "    60% {\n",
              "      border-color: transparent;\n",
              "      border-right-color: var(--fill-color);\n",
              "    }\n",
              "    80% {\n",
              "      border-color: transparent;\n",
              "      border-right-color: var(--fill-color);\n",
              "      border-bottom-color: var(--fill-color);\n",
              "    }\n",
              "    90% {\n",
              "      border-color: transparent;\n",
              "      border-bottom-color: var(--fill-color);\n",
              "    }\n",
              "  }\n",
              "</style>\n",
              "\n",
              "  <script>\n",
              "    async function quickchart(key) {\n",
              "      const quickchartButtonEl =\n",
              "        document.querySelector('#' + key + ' button');\n",
              "      quickchartButtonEl.disabled = true;  // To prevent multiple clicks.\n",
              "      quickchartButtonEl.classList.add('colab-df-spinner');\n",
              "      try {\n",
              "        const charts = await google.colab.kernel.invokeFunction(\n",
              "            'suggestCharts', [key], {});\n",
              "      } catch (error) {\n",
              "        console.error('Error during call to suggestCharts:', error);\n",
              "      }\n",
              "      quickchartButtonEl.classList.remove('colab-df-spinner');\n",
              "      quickchartButtonEl.classList.add('colab-df-quickchart-complete');\n",
              "    }\n",
              "    (() => {\n",
              "      let quickchartButtonEl =\n",
              "        document.querySelector('#df-e7069e49-7c63-4476-ba25-41ecdc1d42f1 button');\n",
              "      quickchartButtonEl.style.display =\n",
              "        google.colab.kernel.accessAllowed ? 'block' : 'none';\n",
              "    })();\n",
              "  </script>\n",
              "</div>\n",
              "    </div>\n",
              "  </div>\n"
            ],
            "application/vnd.google.colaboratory.intrinsic+json": {
              "type": "dataframe",
              "variable_name": "imdb_data"
            }
          },
          "metadata": {},
          "execution_count": 23
        }
      ]
    },
    {
      "cell_type": "code",
      "source": [
        "# Replacing Commas(,) in Imbd_Votes\n",
        "\n",
        "imdb_data['Imbd_Votes'] = imdb_data['Imbd_Votes'].str.replace(',','')\n",
        "imdb_data['Imbd_Votes']"
      ],
      "metadata": {
        "id": "sfetQWz5Ub1Q",
        "colab": {
          "base_uri": "https://localhost:8080/"
        },
        "outputId": "164ae59f-84d3-404a-a1bc-23fae303c9ad"
      },
      "execution_count": 24,
      "outputs": [
        {
          "output_type": "execute_result",
          "data": {
            "text/plain": [
              "0      2711075\n",
              "1      1882829\n",
              "2      2684051\n",
              "3      1285350\n",
              "4       800954\n",
              "        ...   \n",
              "245      31167\n",
              "246     466011\n",
              "247     429219\n",
              "248     234688\n",
              "249     271823\n",
              "Name: Imbd_Votes, Length: 249, dtype: object"
            ]
          },
          "metadata": {},
          "execution_count": 24
        }
      ]
    },
    {
      "cell_type": "code",
      "source": [
        "imdb_data.dtypes"
      ],
      "metadata": {
        "id": "krNeXyW7Ub3J",
        "colab": {
          "base_uri": "https://localhost:8080/"
        },
        "outputId": "08b1cc04-00d4-49d3-f76c-4db5c6eaaa33"
      },
      "execution_count": 25,
      "outputs": [
        {
          "output_type": "execute_result",
          "data": {
            "text/plain": [
              "Rank                int64\n",
              "Movie_Id           object\n",
              "Title              object\n",
              "Year                int64\n",
              "Link               object\n",
              "Imbd_Votes         object\n",
              "Imbd_Rating       float64\n",
              "Certificate        object\n",
              "Duration           object\n",
              "Genre              object\n",
              "Cast_Id            object\n",
              "Cast_Name          object\n",
              "Director_Id        object\n",
              "Director_Name      object\n",
              "Writer_Id          object\n",
              "Writer_Name        object\n",
              "Storyline          object\n",
              "User_Id            object\n",
              "User_Name          object\n",
              "Review_Id          object\n",
              "Review_Title       object\n",
              "Review_Content     object\n",
              "dtype: object"
            ]
          },
          "metadata": {},
          "execution_count": 25
        }
      ]
    },
    {
      "cell_type": "code",
      "source": [
        "# Converting imdb_votes to int type from object type\n",
        "\n",
        "imdb_data['Imbd_Votes'] = pd.to_numeric(imdb_data['Imbd_Votes'])"
      ],
      "metadata": {
        "id": "EYq0KvpQgF_E"
      },
      "execution_count": 26,
      "outputs": []
    },
    {
      "cell_type": "code",
      "source": [
        "imdb_data.dtypes"
      ],
      "metadata": {
        "colab": {
          "base_uri": "https://localhost:8080/"
        },
        "id": "ZpzmbZMggGBG",
        "outputId": "84e6260f-5b2b-4c78-845b-94b3766d5a15"
      },
      "execution_count": 21,
      "outputs": [
        {
          "output_type": "execute_result",
          "data": {
            "text/plain": [
              "Rank                int64\n",
              "Movie_Id           object\n",
              "Title              object\n",
              "Year                int64\n",
              "Link               object\n",
              "Imbd_Votes          int64\n",
              "Imbd_Rating       float64\n",
              "Certificate        object\n",
              "Duration           object\n",
              "Genre              object\n",
              "Cast_Id            object\n",
              "Cast_Name          object\n",
              "Director_Id        object\n",
              "Director_Name      object\n",
              "Writer_Id          object\n",
              "Writer_Name        object\n",
              "Storyline          object\n",
              "User_Id            object\n",
              "User_Name          object\n",
              "Review_Id          object\n",
              "Review_Title       object\n",
              "Review_Content     object\n",
              "dtype: object"
            ]
          },
          "metadata": {},
          "execution_count": 21
        }
      ]
    },
    {
      "cell_type": "code",
      "source": [
        "# Convert Duration from object type to integer (in mins)\n",
        "\n",
        "def min(Duration):\n",
        "  if 'h' in Duration and 'm' in Duration:\n",
        "    return (int(Duration.split(' ')[0].replace('h','')) * 60) + int(Duration.split(' ')[1].replace('m',''))\n",
        "  elif 'h' in Duration and 'm' not in Duration:\n",
        "    return int(Duration.replace('h','')) * 60\n",
        "  elif 'm' in Duration and 'h' not in Duration:\n",
        "    return int(Duration.replace('m',''))\n",
        "  else:\n",
        "    return None\n",
        "\n",
        "imdb_data['Duration'] = imdb_data['Duration'].apply(min)"
      ],
      "metadata": {
        "id": "sK4sK1vQgGDj"
      },
      "execution_count": 31,
      "outputs": []
    },
    {
      "cell_type": "code",
      "source": [
        "imdb_data.columns"
      ],
      "metadata": {
        "colab": {
          "base_uri": "https://localhost:8080/"
        },
        "id": "LFqBPfp8gfjq",
        "outputId": "5625d1fb-a225-4726-99c1-358e68937eb4"
      },
      "execution_count": 33,
      "outputs": [
        {
          "output_type": "execute_result",
          "data": {
            "text/plain": [
              "Index(['Rank', 'Movie_Id', 'Title', 'Year', 'Link', 'Imbd_Votes',\n",
              "       'Imbd_Rating', 'Certificate', 'Duration', 'Genre', 'Cast_Id',\n",
              "       'Cast_Name', 'Director_Id', 'Director_Name', 'Writer_Id', 'Writer_Name',\n",
              "       'Storyline', 'User_Id', 'User_Name', 'Review_Id', 'Review_Title',\n",
              "       'Review_Content', 'minutes'],\n",
              "      dtype='object')"
            ]
          },
          "metadata": {},
          "execution_count": 33
        }
      ]
    },
    {
      "cell_type": "code",
      "source": [
        "# Removing unnecessary columns\n",
        "\n",
        "columns_to_drops = ['Link','Cast_Id','Cast_Name','Director_Id','Writer_Id','Writer_Name','Storyline','User_Id','User_Name','Review_Id','Review_Title','Review_Content','minutes']"
      ],
      "metadata": {
        "id": "KZFn9cIPgfl8"
      },
      "execution_count": 34,
      "outputs": []
    },
    {
      "cell_type": "code",
      "source": [
        "imdb_data=imdb_data.drop(columns=columns_to_drops)"
      ],
      "metadata": {
        "id": "jpK8Sx0guMJy"
      },
      "execution_count": 35,
      "outputs": []
    },
    {
      "cell_type": "code",
      "source": [
        "imdb_data"
      ],
      "metadata": {
        "colab": {
          "base_uri": "https://localhost:8080/",
          "height": 652
        },
        "id": "4_aWVEixu7R9",
        "outputId": "e4a9283f-3c62-49f1-d941-a500a40f12f9"
      },
      "execution_count": 36,
      "outputs": [
        {
          "output_type": "execute_result",
          "data": {
            "text/plain": [
              "     Rank   Movie_Id                     Title  Year  Imbd_Votes  Imbd_Rating  \\\n",
              "0       1  tt0111161  The Shawshank Redemption  1994     2711075          9.3   \n",
              "1       2  tt0068646             The Godfather  1972     1882829          9.2   \n",
              "2       3  tt0468569           The Dark Knight  2008     2684051          9.0   \n",
              "3       4  tt0071562     The Godfather Part II  1974     1285350          9.0   \n",
              "4       5  tt0050083              12 Angry Men  1957      800954          9.0   \n",
              "..    ...        ...                       ...   ...         ...          ...   \n",
              "245   246  tt0071411               Dersu Uzala  1975       31167          8.2   \n",
              "246   247  tt1454029                  The Help  2011      466011          8.1   \n",
              "247   248  tt0103639                   Aladdin  1992      429219          8.0   \n",
              "248   249  tt0083987                    Gandhi  1982      234688          8.0   \n",
              "249   250  tt0099348        Dances with Wolves  1990      271823          8.0   \n",
              "\n",
              "    Certificate  Duration                       Genre  \\\n",
              "0             R       142                       Drama   \n",
              "1             R       175                 Crime,Drama   \n",
              "2         PG-13       152          Action,Crime,Drama   \n",
              "3             R       202                 Crime,Drama   \n",
              "4      Approved        96                 Crime,Drama   \n",
              "..          ...       ...                         ...   \n",
              "245           G       142   Adventure,Biography,Drama   \n",
              "246       PG-13       146                       Drama   \n",
              "247           G        90  Animation,Adventure,Comedy   \n",
              "248          PG       191     Biography,Drama,History   \n",
              "249       PG-13       181     Adventure,Drama,Western   \n",
              "\n",
              "                Director_Name  \n",
              "0              Frank Darabont  \n",
              "1        Francis Ford Coppola  \n",
              "2           Christopher Nolan  \n",
              "3        Francis Ford Coppola  \n",
              "4                Sidney Lumet  \n",
              "..                        ...  \n",
              "245            Akira Kurosawa  \n",
              "246               Tate Taylor  \n",
              "247  Ron Clements,John Musker  \n",
              "248      Richard Attenborough  \n",
              "249             Kevin Costner  \n",
              "\n",
              "[249 rows x 10 columns]"
            ],
            "text/html": [
              "\n",
              "  <div id=\"df-4ce07756-5a95-4234-9ea6-a62c1ece12ce\" class=\"colab-df-container\">\n",
              "    <div>\n",
              "<style scoped>\n",
              "    .dataframe tbody tr th:only-of-type {\n",
              "        vertical-align: middle;\n",
              "    }\n",
              "\n",
              "    .dataframe tbody tr th {\n",
              "        vertical-align: top;\n",
              "    }\n",
              "\n",
              "    .dataframe thead th {\n",
              "        text-align: right;\n",
              "    }\n",
              "</style>\n",
              "<table border=\"1\" class=\"dataframe\">\n",
              "  <thead>\n",
              "    <tr style=\"text-align: right;\">\n",
              "      <th></th>\n",
              "      <th>Rank</th>\n",
              "      <th>Movie_Id</th>\n",
              "      <th>Title</th>\n",
              "      <th>Year</th>\n",
              "      <th>Imbd_Votes</th>\n",
              "      <th>Imbd_Rating</th>\n",
              "      <th>Certificate</th>\n",
              "      <th>Duration</th>\n",
              "      <th>Genre</th>\n",
              "      <th>Director_Name</th>\n",
              "    </tr>\n",
              "  </thead>\n",
              "  <tbody>\n",
              "    <tr>\n",
              "      <th>0</th>\n",
              "      <td>1</td>\n",
              "      <td>tt0111161</td>\n",
              "      <td>The Shawshank Redemption</td>\n",
              "      <td>1994</td>\n",
              "      <td>2711075</td>\n",
              "      <td>9.3</td>\n",
              "      <td>R</td>\n",
              "      <td>142</td>\n",
              "      <td>Drama</td>\n",
              "      <td>Frank Darabont</td>\n",
              "    </tr>\n",
              "    <tr>\n",
              "      <th>1</th>\n",
              "      <td>2</td>\n",
              "      <td>tt0068646</td>\n",
              "      <td>The Godfather</td>\n",
              "      <td>1972</td>\n",
              "      <td>1882829</td>\n",
              "      <td>9.2</td>\n",
              "      <td>R</td>\n",
              "      <td>175</td>\n",
              "      <td>Crime,Drama</td>\n",
              "      <td>Francis Ford Coppola</td>\n",
              "    </tr>\n",
              "    <tr>\n",
              "      <th>2</th>\n",
              "      <td>3</td>\n",
              "      <td>tt0468569</td>\n",
              "      <td>The Dark Knight</td>\n",
              "      <td>2008</td>\n",
              "      <td>2684051</td>\n",
              "      <td>9.0</td>\n",
              "      <td>PG-13</td>\n",
              "      <td>152</td>\n",
              "      <td>Action,Crime,Drama</td>\n",
              "      <td>Christopher Nolan</td>\n",
              "    </tr>\n",
              "    <tr>\n",
              "      <th>3</th>\n",
              "      <td>4</td>\n",
              "      <td>tt0071562</td>\n",
              "      <td>The Godfather Part II</td>\n",
              "      <td>1974</td>\n",
              "      <td>1285350</td>\n",
              "      <td>9.0</td>\n",
              "      <td>R</td>\n",
              "      <td>202</td>\n",
              "      <td>Crime,Drama</td>\n",
              "      <td>Francis Ford Coppola</td>\n",
              "    </tr>\n",
              "    <tr>\n",
              "      <th>4</th>\n",
              "      <td>5</td>\n",
              "      <td>tt0050083</td>\n",
              "      <td>12 Angry Men</td>\n",
              "      <td>1957</td>\n",
              "      <td>800954</td>\n",
              "      <td>9.0</td>\n",
              "      <td>Approved</td>\n",
              "      <td>96</td>\n",
              "      <td>Crime,Drama</td>\n",
              "      <td>Sidney Lumet</td>\n",
              "    </tr>\n",
              "    <tr>\n",
              "      <th>...</th>\n",
              "      <td>...</td>\n",
              "      <td>...</td>\n",
              "      <td>...</td>\n",
              "      <td>...</td>\n",
              "      <td>...</td>\n",
              "      <td>...</td>\n",
              "      <td>...</td>\n",
              "      <td>...</td>\n",
              "      <td>...</td>\n",
              "      <td>...</td>\n",
              "    </tr>\n",
              "    <tr>\n",
              "      <th>245</th>\n",
              "      <td>246</td>\n",
              "      <td>tt0071411</td>\n",
              "      <td>Dersu Uzala</td>\n",
              "      <td>1975</td>\n",
              "      <td>31167</td>\n",
              "      <td>8.2</td>\n",
              "      <td>G</td>\n",
              "      <td>142</td>\n",
              "      <td>Adventure,Biography,Drama</td>\n",
              "      <td>Akira Kurosawa</td>\n",
              "    </tr>\n",
              "    <tr>\n",
              "      <th>246</th>\n",
              "      <td>247</td>\n",
              "      <td>tt1454029</td>\n",
              "      <td>The Help</td>\n",
              "      <td>2011</td>\n",
              "      <td>466011</td>\n",
              "      <td>8.1</td>\n",
              "      <td>PG-13</td>\n",
              "      <td>146</td>\n",
              "      <td>Drama</td>\n",
              "      <td>Tate Taylor</td>\n",
              "    </tr>\n",
              "    <tr>\n",
              "      <th>247</th>\n",
              "      <td>248</td>\n",
              "      <td>tt0103639</td>\n",
              "      <td>Aladdin</td>\n",
              "      <td>1992</td>\n",
              "      <td>429219</td>\n",
              "      <td>8.0</td>\n",
              "      <td>G</td>\n",
              "      <td>90</td>\n",
              "      <td>Animation,Adventure,Comedy</td>\n",
              "      <td>Ron Clements,John Musker</td>\n",
              "    </tr>\n",
              "    <tr>\n",
              "      <th>248</th>\n",
              "      <td>249</td>\n",
              "      <td>tt0083987</td>\n",
              "      <td>Gandhi</td>\n",
              "      <td>1982</td>\n",
              "      <td>234688</td>\n",
              "      <td>8.0</td>\n",
              "      <td>PG</td>\n",
              "      <td>191</td>\n",
              "      <td>Biography,Drama,History</td>\n",
              "      <td>Richard Attenborough</td>\n",
              "    </tr>\n",
              "    <tr>\n",
              "      <th>249</th>\n",
              "      <td>250</td>\n",
              "      <td>tt0099348</td>\n",
              "      <td>Dances with Wolves</td>\n",
              "      <td>1990</td>\n",
              "      <td>271823</td>\n",
              "      <td>8.0</td>\n",
              "      <td>PG-13</td>\n",
              "      <td>181</td>\n",
              "      <td>Adventure,Drama,Western</td>\n",
              "      <td>Kevin Costner</td>\n",
              "    </tr>\n",
              "  </tbody>\n",
              "</table>\n",
              "<p>249 rows × 10 columns</p>\n",
              "</div>\n",
              "    <div class=\"colab-df-buttons\">\n",
              "\n",
              "  <div class=\"colab-df-container\">\n",
              "    <button class=\"colab-df-convert\" onclick=\"convertToInteractive('df-4ce07756-5a95-4234-9ea6-a62c1ece12ce')\"\n",
              "            title=\"Convert this dataframe to an interactive table.\"\n",
              "            style=\"display:none;\">\n",
              "\n",
              "  <svg xmlns=\"http://www.w3.org/2000/svg\" height=\"24px\" viewBox=\"0 -960 960 960\">\n",
              "    <path d=\"M120-120v-720h720v720H120Zm60-500h600v-160H180v160Zm220 220h160v-160H400v160Zm0 220h160v-160H400v160ZM180-400h160v-160H180v160Zm440 0h160v-160H620v160ZM180-180h160v-160H180v160Zm440 0h160v-160H620v160Z\"/>\n",
              "  </svg>\n",
              "    </button>\n",
              "\n",
              "  <style>\n",
              "    .colab-df-container {\n",
              "      display:flex;\n",
              "      gap: 12px;\n",
              "    }\n",
              "\n",
              "    .colab-df-convert {\n",
              "      background-color: #E8F0FE;\n",
              "      border: none;\n",
              "      border-radius: 50%;\n",
              "      cursor: pointer;\n",
              "      display: none;\n",
              "      fill: #1967D2;\n",
              "      height: 32px;\n",
              "      padding: 0 0 0 0;\n",
              "      width: 32px;\n",
              "    }\n",
              "\n",
              "    .colab-df-convert:hover {\n",
              "      background-color: #E2EBFA;\n",
              "      box-shadow: 0px 1px 2px rgba(60, 64, 67, 0.3), 0px 1px 3px 1px rgba(60, 64, 67, 0.15);\n",
              "      fill: #174EA6;\n",
              "    }\n",
              "\n",
              "    .colab-df-buttons div {\n",
              "      margin-bottom: 4px;\n",
              "    }\n",
              "\n",
              "    [theme=dark] .colab-df-convert {\n",
              "      background-color: #3B4455;\n",
              "      fill: #D2E3FC;\n",
              "    }\n",
              "\n",
              "    [theme=dark] .colab-df-convert:hover {\n",
              "      background-color: #434B5C;\n",
              "      box-shadow: 0px 1px 3px 1px rgba(0, 0, 0, 0.15);\n",
              "      filter: drop-shadow(0px 1px 2px rgba(0, 0, 0, 0.3));\n",
              "      fill: #FFFFFF;\n",
              "    }\n",
              "  </style>\n",
              "\n",
              "    <script>\n",
              "      const buttonEl =\n",
              "        document.querySelector('#df-4ce07756-5a95-4234-9ea6-a62c1ece12ce button.colab-df-convert');\n",
              "      buttonEl.style.display =\n",
              "        google.colab.kernel.accessAllowed ? 'block' : 'none';\n",
              "\n",
              "      async function convertToInteractive(key) {\n",
              "        const element = document.querySelector('#df-4ce07756-5a95-4234-9ea6-a62c1ece12ce');\n",
              "        const dataTable =\n",
              "          await google.colab.kernel.invokeFunction('convertToInteractive',\n",
              "                                                    [key], {});\n",
              "        if (!dataTable) return;\n",
              "\n",
              "        const docLinkHtml = 'Like what you see? Visit the ' +\n",
              "          '<a target=\"_blank\" href=https://colab.research.google.com/notebooks/data_table.ipynb>data table notebook</a>'\n",
              "          + ' to learn more about interactive tables.';\n",
              "        element.innerHTML = '';\n",
              "        dataTable['output_type'] = 'display_data';\n",
              "        await google.colab.output.renderOutput(dataTable, element);\n",
              "        const docLink = document.createElement('div');\n",
              "        docLink.innerHTML = docLinkHtml;\n",
              "        element.appendChild(docLink);\n",
              "      }\n",
              "    </script>\n",
              "  </div>\n",
              "\n",
              "\n",
              "<div id=\"df-c8375665-ee52-45e7-b82d-838dd6e2715e\">\n",
              "  <button class=\"colab-df-quickchart\" onclick=\"quickchart('df-c8375665-ee52-45e7-b82d-838dd6e2715e')\"\n",
              "            title=\"Suggest charts\"\n",
              "            style=\"display:none;\">\n",
              "\n",
              "<svg xmlns=\"http://www.w3.org/2000/svg\" height=\"24px\"viewBox=\"0 0 24 24\"\n",
              "     width=\"24px\">\n",
              "    <g>\n",
              "        <path d=\"M19 3H5c-1.1 0-2 .9-2 2v14c0 1.1.9 2 2 2h14c1.1 0 2-.9 2-2V5c0-1.1-.9-2-2-2zM9 17H7v-7h2v7zm4 0h-2V7h2v10zm4 0h-2v-4h2v4z\"/>\n",
              "    </g>\n",
              "</svg>\n",
              "  </button>\n",
              "\n",
              "<style>\n",
              "  .colab-df-quickchart {\n",
              "      --bg-color: #E8F0FE;\n",
              "      --fill-color: #1967D2;\n",
              "      --hover-bg-color: #E2EBFA;\n",
              "      --hover-fill-color: #174EA6;\n",
              "      --disabled-fill-color: #AAA;\n",
              "      --disabled-bg-color: #DDD;\n",
              "  }\n",
              "\n",
              "  [theme=dark] .colab-df-quickchart {\n",
              "      --bg-color: #3B4455;\n",
              "      --fill-color: #D2E3FC;\n",
              "      --hover-bg-color: #434B5C;\n",
              "      --hover-fill-color: #FFFFFF;\n",
              "      --disabled-bg-color: #3B4455;\n",
              "      --disabled-fill-color: #666;\n",
              "  }\n",
              "\n",
              "  .colab-df-quickchart {\n",
              "    background-color: var(--bg-color);\n",
              "    border: none;\n",
              "    border-radius: 50%;\n",
              "    cursor: pointer;\n",
              "    display: none;\n",
              "    fill: var(--fill-color);\n",
              "    height: 32px;\n",
              "    padding: 0;\n",
              "    width: 32px;\n",
              "  }\n",
              "\n",
              "  .colab-df-quickchart:hover {\n",
              "    background-color: var(--hover-bg-color);\n",
              "    box-shadow: 0 1px 2px rgba(60, 64, 67, 0.3), 0 1px 3px 1px rgba(60, 64, 67, 0.15);\n",
              "    fill: var(--button-hover-fill-color);\n",
              "  }\n",
              "\n",
              "  .colab-df-quickchart-complete:disabled,\n",
              "  .colab-df-quickchart-complete:disabled:hover {\n",
              "    background-color: var(--disabled-bg-color);\n",
              "    fill: var(--disabled-fill-color);\n",
              "    box-shadow: none;\n",
              "  }\n",
              "\n",
              "  .colab-df-spinner {\n",
              "    border: 2px solid var(--fill-color);\n",
              "    border-color: transparent;\n",
              "    border-bottom-color: var(--fill-color);\n",
              "    animation:\n",
              "      spin 1s steps(1) infinite;\n",
              "  }\n",
              "\n",
              "  @keyframes spin {\n",
              "    0% {\n",
              "      border-color: transparent;\n",
              "      border-bottom-color: var(--fill-color);\n",
              "      border-left-color: var(--fill-color);\n",
              "    }\n",
              "    20% {\n",
              "      border-color: transparent;\n",
              "      border-left-color: var(--fill-color);\n",
              "      border-top-color: var(--fill-color);\n",
              "    }\n",
              "    30% {\n",
              "      border-color: transparent;\n",
              "      border-left-color: var(--fill-color);\n",
              "      border-top-color: var(--fill-color);\n",
              "      border-right-color: var(--fill-color);\n",
              "    }\n",
              "    40% {\n",
              "      border-color: transparent;\n",
              "      border-right-color: var(--fill-color);\n",
              "      border-top-color: var(--fill-color);\n",
              "    }\n",
              "    60% {\n",
              "      border-color: transparent;\n",
              "      border-right-color: var(--fill-color);\n",
              "    }\n",
              "    80% {\n",
              "      border-color: transparent;\n",
              "      border-right-color: var(--fill-color);\n",
              "      border-bottom-color: var(--fill-color);\n",
              "    }\n",
              "    90% {\n",
              "      border-color: transparent;\n",
              "      border-bottom-color: var(--fill-color);\n",
              "    }\n",
              "  }\n",
              "</style>\n",
              "\n",
              "  <script>\n",
              "    async function quickchart(key) {\n",
              "      const quickchartButtonEl =\n",
              "        document.querySelector('#' + key + ' button');\n",
              "      quickchartButtonEl.disabled = true;  // To prevent multiple clicks.\n",
              "      quickchartButtonEl.classList.add('colab-df-spinner');\n",
              "      try {\n",
              "        const charts = await google.colab.kernel.invokeFunction(\n",
              "            'suggestCharts', [key], {});\n",
              "      } catch (error) {\n",
              "        console.error('Error during call to suggestCharts:', error);\n",
              "      }\n",
              "      quickchartButtonEl.classList.remove('colab-df-spinner');\n",
              "      quickchartButtonEl.classList.add('colab-df-quickchart-complete');\n",
              "    }\n",
              "    (() => {\n",
              "      let quickchartButtonEl =\n",
              "        document.querySelector('#df-c8375665-ee52-45e7-b82d-838dd6e2715e button');\n",
              "      quickchartButtonEl.style.display =\n",
              "        google.colab.kernel.accessAllowed ? 'block' : 'none';\n",
              "    })();\n",
              "  </script>\n",
              "</div>\n",
              "    </div>\n",
              "  </div>\n"
            ],
            "application/vnd.google.colaboratory.intrinsic+json": {
              "type": "dataframe",
              "variable_name": "imdb_data",
              "summary": "{\n  \"name\": \"imdb_data\",\n  \"rows\": 249,\n  \"fields\": [\n    {\n      \"column\": \"Rank\",\n      \"properties\": {\n        \"dtype\": \"number\",\n        \"std\": 72,\n        \"min\": 1,\n        \"max\": 250,\n        \"num_unique_values\": 249,\n        \"samples\": [\n          139,\n          7,\n          99\n        ],\n        \"semantic_type\": \"\",\n        \"description\": \"\"\n      }\n    },\n    {\n      \"column\": \"Movie_Id\",\n      \"properties\": {\n        \"dtype\": \"string\",\n        \"num_unique_values\": 249,\n        \"samples\": [\n          \"tt0469494\",\n          \"tt0167260\",\n          \"tt0044741\"\n        ],\n        \"semantic_type\": \"\",\n        \"description\": \"\"\n      }\n    },\n    {\n      \"column\": \"Title\",\n      \"properties\": {\n        \"dtype\": \"string\",\n        \"num_unique_values\": 249,\n        \"samples\": [\n          \"There Will Be Blood\",\n          \"The Lord of the Rings: The Return of the King\",\n          \"Ikiru\"\n        ],\n        \"semantic_type\": \"\",\n        \"description\": \"\"\n      }\n    },\n    {\n      \"column\": \"Year\",\n      \"properties\": {\n        \"dtype\": \"number\",\n        \"std\": 25,\n        \"min\": 1921,\n        \"max\": 2022,\n        \"num_unique_values\": 86,\n        \"samples\": [\n          1996,\n          1994,\n          1961\n        ],\n        \"semantic_type\": \"\",\n        \"description\": \"\"\n      }\n    },\n    {\n      \"column\": \"Imbd_Votes\",\n      \"properties\": {\n        \"dtype\": \"number\",\n        \"std\": 523819,\n        \"min\": 31167,\n        \"max\": 2711075,\n        \"num_unique_values\": 249,\n        \"samples\": [\n          595129,\n          1865812,\n          80354\n        ],\n        \"semantic_type\": \"\",\n        \"description\": \"\"\n      }\n    },\n    {\n      \"column\": \"Imbd_Rating\",\n      \"properties\": {\n        \"dtype\": \"number\",\n        \"std\": 0.2293901353053601,\n        \"min\": 8.0,\n        \"max\": 9.3,\n        \"num_unique_values\": 13,\n        \"samples\": [\n          8.1,\n          8.3,\n          9.3\n        ],\n        \"semantic_type\": \"\",\n        \"description\": \"\"\n      }\n    },\n    {\n      \"column\": \"Certificate\",\n      \"properties\": {\n        \"dtype\": \"category\",\n        \"num_unique_values\": 14,\n        \"samples\": [\n          \"Unrated\",\n          \"13+\",\n          \"R\"\n        ],\n        \"semantic_type\": \"\",\n        \"description\": \"\"\n      }\n    },\n    {\n      \"column\": \"Duration\",\n      \"properties\": {\n        \"dtype\": \"number\",\n        \"std\": 30,\n        \"min\": 45,\n        \"max\": 238,\n        \"num_unique_values\": 101,\n        \"samples\": [\n          100,\n          181,\n          128\n        ],\n        \"semantic_type\": \"\",\n        \"description\": \"\"\n      }\n    },\n    {\n      \"column\": \"Genre\",\n      \"properties\": {\n        \"dtype\": \"category\",\n        \"num_unique_values\": 104,\n        \"samples\": [\n          \"Biography,Comedy,Drama\",\n          \"Drama,Family\",\n          \"Comedy,Crime\"\n        ],\n        \"semantic_type\": \"\",\n        \"description\": \"\"\n      }\n    },\n    {\n      \"column\": \"Director_Name\",\n      \"properties\": {\n        \"dtype\": \"string\",\n        \"num_unique_values\": 159,\n        \"samples\": [\n          \"Oliver Hirschbiegel\",\n          \"Tate Taylor\",\n          \"Carl Theodor Dreyer\"\n        ],\n        \"semantic_type\": \"\",\n        \"description\": \"\"\n      }\n    }\n  ]\n}"
            }
          },
          "metadata": {},
          "execution_count": 36
        }
      ]
    },
    {
      "cell_type": "code",
      "source": [
        "len(imdb_data)"
      ],
      "metadata": {
        "colab": {
          "base_uri": "https://localhost:8080/"
        },
        "id": "-C-ui5bwvA0N",
        "outputId": "d063f488-0cf0-4651-c44c-c288f16477a4"
      },
      "execution_count": 38,
      "outputs": [
        {
          "output_type": "execute_result",
          "data": {
            "text/plain": [
              "249"
            ]
          },
          "metadata": {},
          "execution_count": 38
        }
      ]
    },
    {
      "cell_type": "code",
      "source": [
        "print('No. of Rows :',imdb_data.shape[0])\n",
        "print('No. of Columns :', imdb_data.shape[1])"
      ],
      "metadata": {
        "colab": {
          "base_uri": "https://localhost:8080/"
        },
        "id": "zwWxFe4gvHgg",
        "outputId": "d5cfc8dd-3cff-483b-84d5-5f03f189c126"
      },
      "execution_count": 39,
      "outputs": [
        {
          "output_type": "stream",
          "name": "stdout",
          "text": [
            "No. of Rows : 249\n",
            "No. of Columns : 10\n"
          ]
        }
      ]
    },
    {
      "cell_type": "code",
      "source": [
        "# Q1 - What is the range of years covered in the dataset?\n",
        "\n",
        "min_year = imdb_data['Year'].min()\n",
        "max_year = imdb_data['Year'].max()\n",
        "\n",
        "print(f\"\\nThe range of years covered in the dataset is: {min_year} to {max_year}\")"
      ],
      "metadata": {
        "colab": {
          "base_uri": "https://localhost:8080/"
        },
        "id": "odT4LLzZvonb",
        "outputId": "26031f8e-b58a-44a8-f106-78690aba5f5d"
      },
      "execution_count": 41,
      "outputs": [
        {
          "output_type": "stream",
          "name": "stdout",
          "text": [
            "\n",
            "The range of years covered in the dataset is: 1921 to 2022\n"
          ]
        }
      ]
    },
    {
      "cell_type": "code",
      "source": [
        "# Q2 - How does the distribution of IMDb ratings differ between movies with a \"PG\" certification and those with an \"R\" certification?\"\n",
        "\n",
        "pg_movies = imdb_data[imdb_data['Certificate'] == 'PG']\n",
        "r_movies = imdb_data[imdb_data['Certificate'] == 'R']\n",
        "\n",
        "plt.figure(figsize=(10, 6))\n",
        "\n",
        "sns.kdeplot(data=pg_movies, x='Imbd_Rating', label='PG', common_norm=False)\n",
        "sns.kdeplot(data=r_movies, x='Imbd_Rating', label='R', common_norm=False)\n",
        "\n",
        "plt.title('Distribution of IMDb Ratings for \"PG\" and \"R\" Movies')\n",
        "plt.xlabel('IMDb Rating')\n",
        "plt.ylabel('Density')\n",
        "plt.legend()\n",
        "\n",
        "# Show the plot\n",
        "plt.show()"
      ],
      "metadata": {
        "colab": {
          "base_uri": "https://localhost:8080/",
          "height": 564
        },
        "id": "5HW_m8vovowq",
        "outputId": "48173d26-e823-4b41-c61f-7426db858a11"
      },
      "execution_count": 54,
      "outputs": [
        {
          "output_type": "display_data",
          "data": {
            "text/plain": [
              "<Figure size 1000x600 with 1 Axes>"
            ],
            "image/png": "[encoded data removed]"
          },
          "metadata": {}
        }
      ]
    },
    {
      "cell_type": "code",
      "source": [
        "# Q3 - What is the average duration of movies in the dataset?\n",
        "\n",
        "average_duration = imdb_data['Duration'].mean()\n",
        "print(\"Average Duration Of Movies : \",average_duration )\n",
        "average_duration.dtype"
      ],
      "metadata": {
        "colab": {
          "base_uri": "https://localhost:8080/"
        },
        "id": "xL4-Bstsvo1h",
        "outputId": "f7dee0ef-939b-4f42-eb09-9344b4603dd2"
      },
      "execution_count": 56,
      "outputs": [
        {
          "output_type": "stream",
          "name": "stdout",
          "text": [
            "Average Duration Of Movies :  129.05220883534136\n"
          ]
        },
        {
          "output_type": "execute_result",
          "data": {
            "text/plain": [
              "dtype('float64')"
            ]
          },
          "metadata": {},
          "execution_count": 56
        }
      ]
    },
    {
      "cell_type": "code",
      "source": [
        "# Q4 - Which movie has the highest IMDb rating?\n",
        "\n",
        "highest_rated_movie = imdb_data.loc[imdb_data['Imbd_Rating'].idxmax()]\n",
        "print(highest_rated_movie)"
      ],
      "metadata": {
        "colab": {
          "base_uri": "https://localhost:8080/"
        },
        "id": "5ST5mdHi1rcG",
        "outputId": "0980eb08-fcd0-4540-ffa5-f10f6fbd9d02"
      },
      "execution_count": 58,
      "outputs": [
        {
          "output_type": "stream",
          "name": "stdout",
          "text": [
            "Rank                                    1\n",
            "Movie_Id                        tt0111161\n",
            "Title            The Shawshank Redemption\n",
            "Year                                 1994\n",
            "Imbd_Votes                        2711075\n",
            "Imbd_Rating                           9.3\n",
            "Certificate                             R\n",
            "Duration                              142\n",
            "Genre                               Drama\n",
            "Director_Name              Frank Darabont\n",
            "Name: 0, dtype: object\n"
          ]
        }
      ]
    },
    {
      "cell_type": "code",
      "source": [
        "# Q5 - How many movies have IMDb ratings above 8.5?\n",
        "\n",
        "high_rated_movies_count = imdb_data[imdb_data['Imbd_Rating'] > 8.5].shape[0]\n",
        "print(high_rated_movies_count)"
      ],
      "metadata": {
        "colab": {
          "base_uri": "https://localhost:8080/"
        },
        "id": "HM5cGqNm1rd-",
        "outputId": "9f0dc0ae-84d2-4360-fee1-b39434b6e93a"
      },
      "execution_count": 59,
      "outputs": [
        {
          "output_type": "stream",
          "name": "stdout",
          "text": [
            "32\n"
          ]
        }
      ]
    },
    {
      "cell_type": "code",
      "source": [
        "# Q6 - What is the most common movie certification?\n",
        "\n",
        "most_common_certification = imdb_data['Certificate'].mode()[0]\n",
        "print(most_common_certification)"
      ],
      "metadata": {
        "colab": {
          "base_uri": "https://localhost:8080/"
        },
        "id": "uCJ4ehE01rgX",
        "outputId": "20d48f7e-a3e1-431c-c4a1-a25b357eecea"
      },
      "execution_count": 60,
      "outputs": [
        {
          "output_type": "stream",
          "name": "stdout",
          "text": [
            "R\n"
          ]
        }
      ]
    },
    {
      "cell_type": "code",
      "source": [
        "# Q7 - How many movies fall under the \"Drama\" genre?\n",
        "\n",
        "drama_movies_count = imdb_data[imdb_data['Genre'].str.contains('Drama')].shape[0]\n",
        "print('Drama Gener Movies Count:',drama_movies_count)"
      ],
      "metadata": {
        "colab": {
          "base_uri": "https://localhost:8080/"
        },
        "id": "6QCuaKZ-3j5H",
        "outputId": "dbbdbc30-47b3-420d-e4b2-239013c3757f"
      },
      "execution_count": 70,
      "outputs": [
        {
          "output_type": "stream",
          "name": "stdout",
          "text": [
            "Drama Gener Movies Count: 176\n"
          ]
        }
      ]
    },
    {
      "cell_type": "code",
      "source": [
        "# Q8 - What is the distribution of movie durations in the dataset?\n",
        "\n",
        "plt.figure(figsize=(10, 6))\n",
        "plt.hist(imdb_data['Duration'], bins=20, edgecolor='Black')\n",
        "plt.title('Distribution of Movie Durations')\n",
        "plt.xlabel('Duration (minutes)')\n",
        "plt.ylabel('Number of Movies')\n",
        "plt.show()"
      ],
      "metadata": {
        "colab": {
          "base_uri": "https://localhost:8080/",
          "height": 564
        },
        "id": "9MhsA24I3_9z",
        "outputId": "3ca61ab9-9449-4e88-a95e-3e6690e6011f"
      },
      "execution_count": 67,
      "outputs": [
        {
          "output_type": "display_data",
          "data": {
            "text/plain": [
              "<Figure size 1000x600 with 1 Axes>"
            ],
            "image/png": "[encoded data removed]"
          },
          "metadata": {}
        }
      ]
    },
    {
      "cell_type": "code",
      "source": [
        "# Q9 - How many movies were released in the 1970s?\n",
        "\n",
        "movies_1970s_count = imdb_data[(imdb_data['Year'] >= 1970) & (imdb_data['Year'] <= 1979)].shape[0]\n",
        "print('movies were released in the 1970s :', movies_1970s_count)"
      ],
      "metadata": {
        "colab": {
          "base_uri": "https://localhost:8080/"
        },
        "id": "LUd3tSTT3__5",
        "outputId": "64dbe334-d6ae-4d63-c546-47609ad77e3d"
      },
      "execution_count": 69,
      "outputs": [
        {
          "output_type": "stream",
          "name": "stdout",
          "text": [
            "movies were released in the 1970s : 19\n"
          ]
        }
      ]
    },
    {
      "cell_type": "code",
      "source": [
        "# Q 10 - Which genre has the highest average IMDb rating?\n",
        "\n",
        "average_rating_by_genre = imdb_data.groupby('Genre')['Imbd_Rating'].mean()\n",
        "\n",
        "highest_rated_genre = average_rating_by_genre.idxmax()\n",
        "highest_average_rating = average_rating_by_genre.max()\n",
        "\n",
        "print(f\"The genre with the highest average IMDb rating is '{highest_rated_genre}' with an average rating of {highest_average_rating:.2f}\")\n"
      ],
      "metadata": {
        "colab": {
          "base_uri": "https://localhost:8080/"
        },
        "id": "pMmGebBG5B0h",
        "outputId": "9c13349b-1c04-4daf-daf5-88df85bdd058"
      },
      "execution_count": 74,
      "outputs": [
        {
          "output_type": "stream",
          "name": "stdout",
          "text": [
            "The genre with the highest average IMDb rating is 'Adventure,Western' with an average rating of 8.80\n"
          ]
        }
      ]
    },
    {
      "cell_type": "code",
      "source": [
        "# Q11 - What is the median IMDb rating of the movies?\n",
        "\n",
        "median_rating = imdb_data['Imbd_Rating'].median()\n",
        "print(f\"The median IMDb rating of the movies is: {median_rating:.2f}\")"
      ],
      "metadata": {
        "colab": {
          "base_uri": "https://localhost:8080/"
        },
        "id": "xqzMgZm_5B2u",
        "outputId": "3f7a07e8-dba0-4911-962e-081ec56f86c2"
      },
      "execution_count": 76,
      "outputs": [
        {
          "output_type": "stream",
          "name": "stdout",
          "text": [
            "The median IMDb rating of the movies is: 8.20\n"
          ]
        }
      ]
    },
    {
      "cell_type": "code",
      "source": [
        "# Q12 - How many movies have IMDb ratings between 8.0 and 8.5?\n",
        "\n",
        "between_ratings_count = imdb_data[(imdb_data['Imbd_Rating'] >= 8.0) & (imdb_data['Imbd_Rating'] <= 8.5)].shape[0]\n",
        "\n",
        "print(f\"The number of movies with IMDb ratings between 8.0 and 8.5 is: {between_ratings_count}\")"
      ],
      "metadata": {
        "colab": {
          "base_uri": "https://localhost:8080/"
        },
        "id": "JXwoAhqV61KX",
        "outputId": "94cbf2c1-1610-4639-d675-c3afd67eb75a"
      },
      "execution_count": 78,
      "outputs": [
        {
          "output_type": "stream",
          "name": "stdout",
          "text": [
            "The number of movies with IMDb ratings between 8.0 and 8.5 is: 217\n"
          ]
        }
      ]
    },
    {
      "cell_type": "code",
      "source": [
        "# Q13 -  What is the average number of IMDb votes for movies in the dataset?\n",
        "\n",
        "average_votes = imdb_data['Imbd_Votes'].mean()\n",
        "print(f\"The average number of IMDb votes for movies in the dataset is: {average_votes:.2f}\")\n"
      ],
      "metadata": {
        "colab": {
          "base_uri": "https://localhost:8080/"
        },
        "id": "cGZFHXu461Mb",
        "outputId": "16485d2e-e7de-4f67-cefa-807207e31367"
      },
      "execution_count": 80,
      "outputs": [
        {
          "output_type": "stream",
          "name": "stdout",
          "text": [
            "The average number of IMDb votes for movies in the dataset is: 649362.73\n"
          ]
        }
      ]
    },
    {
      "cell_type": "code",
      "source": [
        "# Q14 - How many movies have a duration of exactly 2 hours?\n",
        "\n",
        "two_hours_movies_count = imdb_data[imdb_data['Duration'] == 120].shape[0]\n",
        "\n",
        "print('two_hours_movies_count :', two_hours_movies_count)"
      ],
      "metadata": {
        "colab": {
          "base_uri": "https://localhost:8080/"
        },
        "id": "0dVFQBQc7PUm",
        "outputId": "ca1591e1-b9f8-469c-fb2d-e290213edc00"
      },
      "execution_count": 81,
      "outputs": [
        {
          "output_type": "stream",
          "name": "stdout",
          "text": [
            "two_hours_movies_count : 4\n"
          ]
        }
      ]
    },
    {
      "cell_type": "code",
      "source": [
        "# Q15 -  What is the distribution of IMDb ratings across different certification types?\n",
        "\n",
        "plt.figure(figsize=(12, 8))\n",
        "sns.boxplot(x='Certificate', y='Imbd_Rating', data=imdb_data)\n",
        "plt.title('Distribution of IMDb Ratings Across Different Certification Types')\n",
        "plt.xlabel('Certification Type')\n",
        "plt.ylabel('IMDb Rating')\n",
        "plt.show()"
      ],
      "metadata": {
        "colab": {
          "base_uri": "https://localhost:8080/",
          "height": 718
        },
        "id": "TVK5hRas7PW5",
        "outputId": "629448e1-4b8b-4d6c-9d28-a3ab8e449eb7"
      },
      "execution_count": 83,
      "outputs": [
        {
          "output_type": "display_data",
          "data": {
            "text/plain": [
              "<Figure size 1200x800 with 1 Axes>"
            ],
            "image/png": "[encoded data removed]"
          },
          "metadata": {}
        }
      ]
    },
    {
      "cell_type": "code",
      "source": [
        "# Q16 - How many movies have IMDb ratings above 9.0 and fall under the \"Drama\" genre?\n",
        "\n",
        "high_rated_drama_count = imdb_data[(imdb_data['Imbd_Rating'] > 9.0) & (imdb_data['Genre'].str.contains('Drama'))].shape[0]\n",
        "print('high_rated_drama_count :', high_rated_drama_count)"
      ],
      "metadata": {
        "colab": {
          "base_uri": "https://localhost:8080/"
        },
        "id": "4_vLroUE61Oi",
        "outputId": "01ed0f15-f47b-4e98-b2b9-9c848761eee6"
      },
      "execution_count": 85,
      "outputs": [
        {
          "output_type": "stream",
          "name": "stdout",
          "text": [
            "high_rated_drama_count : 2\n"
          ]
        }
      ]
    },
    {
      "cell_type": "code",
      "source": [
        "# Q17 - What is the most common IMDb rating range among the movies?\n",
        "\n",
        "plt.figure(figsize=(10, 6))\n",
        "plt.hist(imdb_data['Imbd_Rating'], bins=20, edgecolor='black')\n",
        "plt.title('Distribution of IMDb Ratings')\n",
        "plt.xlabel('IMDb Rating')\n",
        "plt.ylabel('Number of Movies')\n",
        "plt.show()"
      ],
      "metadata": {
        "colab": {
          "base_uri": "https://localhost:8080/",
          "height": 564
        },
        "id": "411iN85-82Mt",
        "outputId": "9bfaeb08-9ee0-4e9e-a649-7faa7806434b"
      },
      "execution_count": 86,
      "outputs": [
        {
          "output_type": "display_data",
          "data": {
            "text/plain": [
              "<Figure size 1000x600 with 1 Axes>"
            ],
            "image/png": "[encoded data removed]"
          },
          "metadata": {}
        }
      ]
    },
    {
      "cell_type": "code",
      "source": [
        "# Q18 - How many movies have IMDb ratings between 8.0 and 9.0 and are certified as \"R\"?\n",
        "\n",
        "rated_r_movies_count = imdb_data[(imdb_data['Imbd_Rating'] >= 8.0) & (imdb_data['Imbd_Rating'] <= 9.0) & (imdb_data['Certificate'] == 'R')].shape[0]\n",
        "print ('rated_r_movies_count :', rated_r_movies_count)"
      ],
      "metadata": {
        "colab": {
          "base_uri": "https://localhost:8080/"
        },
        "id": "gZ-aZsYc82Ow",
        "outputId": "746496c2-42d3-4ff8-adce-7f53813a2a01"
      },
      "execution_count": 90,
      "outputs": [
        {
          "output_type": "stream",
          "name": "stdout",
          "text": [
            "rated_r_movies_count : 95\n"
          ]
        }
      ]
    },
    {
      "cell_type": "code",
      "source": [
        "# Q19 - How does the distribution of IMDb ratings vary across different decades?\n",
        "\n",
        "imdb_data['Decade'] = (imdb_data['Year'] // 10) * 10\n",
        "plt.figure(figsize=(12, 8))\n",
        "sns.boxplot(x='Decade', y='Imbd_Rating', data=imdb_data)\n",
        "plt.title('Distribution of IMDb Ratings Across Different Decades')\n",
        "plt.xlabel('Decade')\n",
        "plt.ylabel('IMDb Rating')\n",
        "plt.show()"
      ],
      "metadata": {
        "colab": {
          "base_uri": "https://localhost:8080/",
          "height": 718
        },
        "id": "M8bn_muj9lDN",
        "outputId": "ef6b8bd4-03b7-48de-ad28-f2d86b42000b"
      },
      "execution_count": 92,
      "outputs": [
        {
          "output_type": "display_data",
          "data": {
            "text/plain": [
              "<Figure size 1200x800 with 1 Axes>"
            ],
            "image/png": "[encoded data removed]"
          },
          "metadata": {}
        }
      ]
    },
    {
      "cell_type": "code",
      "source": [
        "# Q20 - Which movie has the longest duration and what is it's IMDb rating?\n",
        "\n",
        "longest_duration_movie = imdb_data.loc[imdb_data['Duration'].idxmax()]\n",
        "print(f\"The movie with the longest duration is:\")\n",
        "print(longest_duration_movie[['Title', 'Duration', 'Imbd_Rating']])"
      ],
      "metadata": {
        "colab": {
          "base_uri": "https://localhost:8080/"
        },
        "id": "2VCjPFnu9lEy",
        "outputId": "a10e9d8c-37cc-4279-aeaa-30f10f7781d4"
      },
      "execution_count": 94,
      "outputs": [
        {
          "output_type": "stream",
          "name": "stdout",
          "text": [
            "The movie with the longest duration is:\n",
            "Title          Gone with the Wind\n",
            "Duration                      238\n",
            "Imbd_Rating                   8.2\n",
            "Name: 158, dtype: object\n"
          ]
        }
      ]
    }
  ]
}